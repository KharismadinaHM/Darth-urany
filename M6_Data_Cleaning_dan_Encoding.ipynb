{
  "nbformat": 4,
  "nbformat_minor": 0,
  "metadata": {
    "kernelspec": {
      "display_name": "Python 3",
      "language": "python",
      "name": "python3"
    },
    "language_info": {
      "codemirror_mode": {
        "name": "ipython",
        "version": 3
      },
      "file_extension": ".py",
      "mimetype": "text/x-python",
      "name": "python",
      "nbconvert_exporter": "python",
      "pygments_lexer": "ipython3",
      "version": "3.6.9"
    },
    "colab": {
      "name": "M6_Data Cleaning dan Encoding.ipynb",
      "provenance": [],
      "include_colab_link": true
    }
  },
  "cells": [
    {
      "cell_type": "markdown",
      "metadata": {
        "id": "view-in-github",
        "colab_type": "text"
      },
      "source": [
        "<a href=\"https://colab.research.google.com/github/KharismadinaHM/Darth-urany/blob/master/M6_Data_Cleaning_dan_Encoding.ipynb\" target=\"_parent\"><img src=\"https://colab.research.google.com/assets/colab-badge.svg\" alt=\"Open In Colab\"/></a>"
      ]
    },
    {
      "cell_type": "markdown",
      "metadata": {
        "id": "WQbNLCzEG4Bk"
      },
      "source": [
        "# Nama : Kharismadina Hijra Muhamad\n",
        "# Kelas: 3KA01\n",
        "# NPM  : 13119305\n"
      ]
    },
    {
      "cell_type": "markdown",
      "metadata": {
        "id": "K_n9jko8D7u2"
      },
      "source": [
        "# Praktikum VI\n",
        "\n",
        "\n",
        "\n",
        "Selamat datang pada praktikum unggulan minggu ke - 5. \n",
        "\n",
        "\n",
        "![1_L0464qoX7pSkIQMBcF73Tg.png](attachment:1_L0464qoX7pSkIQMBcF73Tg.png)\n",
        "\n",
        "Gambar diatas menunjukkan tahapan yang Anda perlu lakukan ketika ingin membangun sebuah model artificial intelligence. \n",
        "Pada minggu ini Anda akan melakukan fase data cleansing atau pembersihan data. Tahapan ini biasanya dilakuakan sebelum anda melakukan tahapan EDA yang telah Anda pelajari sebelumnya. Tahapan ini perlu dilakukan jika data yang Anda miliki tidak 'bersih', sehingga perlu dilakukan pemrosesan terlebih dahulu (tahapan pre-processing) sebelum data tersebut masuk kedalam algoritma pembangunan model. \n",
        "\n",
        "Materi praktikum ini dibagi menjadi 2 bagian dengan menggunakan dua dataset yang berbeda. Adapun operasi akan Anda lakukan antara lain \n",
        "* Melihat bentuk data (shape) dari data train dan test set\n",
        "* Cek data NaN, bila ada maka hapus/drop data NaN tsb\n",
        "* Cek outliers, bila ada maka hapus/drop outliers tsb\n",
        "* Melakukan konversi jenis kolom yang relevan.\n",
        "* Melakukan transformasi terhadap data yang bersifat kategori \n",
        "\n",
        "Operasi yang Anda lakukan pada tahapan pembersihan data sangat bergantung pada karakteristik permasalahan, karakter data, serta jenis data yang terdapat dalam dataset Anda. Sebagai referensi, berikut bagan dari berbagai macam tipe data yang mungkin Anda temui dalam sebuah dataset. \n",
        "\n"
      ]
    },
    {
      "cell_type": "markdown",
      "metadata": {
        "id": "z4YVGkbbD7vK"
      },
      "source": [
        "\n",
        "![8UUywzzaMhY2ZGHrWE7VkA_b.png](attachment:8UUywzzaMhY2ZGHrWE7VkA_b.png)"
      ]
    },
    {
      "cell_type": "code",
      "metadata": {
        "_cell_guid": "b1076dfc-b9ad-4769-8c92-a6c4dae69d19",
        "_uuid": "8f2839f25d086af736a60e9eeb907d3b93b6e0e5",
        "execution": {
          "iopub.execute_input": "2021-10-20T09:14:12.864929Z",
          "iopub.status.busy": "2021-10-20T09:14:12.864431Z",
          "iopub.status.idle": "2021-10-20T09:14:13.631899Z",
          "shell.execute_reply": "2021-10-20T09:14:13.631124Z",
          "shell.execute_reply.started": "2021-10-20T09:14:12.864675Z"
        },
        "id": "XmrO6b_gD7vL"
      },
      "source": [
        "import numpy as np \n",
        "import pandas as pd \n",
        "import sklearn\n",
        "import seaborn as sns\n",
        "import matplotlib.pyplot as plt"
      ],
      "execution_count": 1,
      "outputs": []
    },
    {
      "cell_type": "markdown",
      "metadata": {
        "id": "glamQ6ERD7vO"
      },
      "source": [
        "### Dataset 1\n",
        "\n",
        "Dataset yang akan Anda gunakan pada praktikum kali ini adalah dataset komposisi beton (concrete)."
      ]
    },
    {
      "cell_type": "code",
      "metadata": {
        "_cell_guid": "79c7e3d0-c299-4dcb-8224-4455121ee9b0",
        "_uuid": "d629ff2d2480ee46fbb7e2d37f6b5fab8052498a",
        "execution": {
          "iopub.execute_input": "2021-10-20T09:14:29.422831Z",
          "iopub.status.busy": "2021-10-20T09:14:29.422496Z",
          "iopub.status.idle": "2021-10-20T09:14:33.005905Z",
          "shell.execute_reply": "2021-10-20T09:14:33.005050Z",
          "shell.execute_reply.started": "2021-10-20T09:14:29.422762Z"
        },
        "id": "E8gYLWO4D7vP"
      },
      "source": [
        "# Load data train dan test ke dalam pandas dataframe\n",
        "# dataset : https://gitlab.com/andreass.bayu/file-directory/-/raw/main/new_concreate.csv\n",
        "concrete = pd.read_csv(\"https://gitlab.com/andreass.bayu/file-directory/-/raw/main/new_concreate.csv\")"
      ],
      "execution_count": 2,
      "outputs": []
    },
    {
      "cell_type": "code",
      "metadata": {
        "_uuid": "148ecc97189af46a200b00cc52fa0a91e21bd044",
        "execution": {
          "iopub.execute_input": "2021-10-20T09:14:37.904096Z",
          "iopub.status.busy": "2021-10-20T09:14:37.903774Z",
          "iopub.status.idle": "2021-10-20T09:14:37.911259Z",
          "shell.execute_reply": "2021-10-20T09:14:37.910391Z",
          "shell.execute_reply.started": "2021-10-20T09:14:37.904034Z"
        },
        "colab": {
          "base_uri": "https://localhost:8080/",
          "height": 0
        },
        "id": "xgsxr-MTD7vQ",
        "outputId": "aee5ae18-92c8-4031-eb4a-5b7d6afab5ce"
      },
      "source": [
        "# menghasilkan jumlah baris dan jumlah kolom (bentuk data) pada data train dengan fungsi .shape\n",
        "concrete.shape"
      ],
      "execution_count": 3,
      "outputs": [
        {
          "output_type": "execute_result",
          "data": {
            "text/plain": [
              "(1030, 9)"
            ]
          },
          "metadata": {},
          "execution_count": 3
        }
      ]
    },
    {
      "cell_type": "code",
      "metadata": {
        "_kg_hide-output": true,
        "_uuid": "e89ffea1211d7394ec677f5dc46bad3eaf521094",
        "execution": {
          "iopub.execute_input": "2021-10-20T09:15:00.421701Z",
          "iopub.status.busy": "2021-10-20T09:15:00.421352Z",
          "iopub.status.idle": "2021-10-20T09:15:00.449637Z",
          "shell.execute_reply": "2021-10-20T09:15:00.448919Z",
          "shell.execute_reply.started": "2021-10-20T09:15:00.421633Z"
        },
        "colab": {
          "base_uri": "https://localhost:8080/",
          "height": 362
        },
        "id": "CnHuhOE7D7vS",
        "outputId": "319e401b-c5e6-43ff-de44-ccc887b4e660"
      },
      "source": [
        "# menampilkan 10 data teratas\n",
        "concrete.head(10)"
      ],
      "execution_count": 4,
      "outputs": [
        {
          "output_type": "execute_result",
          "data": {
            "text/html": [
              "<div>\n",
              "<style scoped>\n",
              "    .dataframe tbody tr th:only-of-type {\n",
              "        vertical-align: middle;\n",
              "    }\n",
              "\n",
              "    .dataframe tbody tr th {\n",
              "        vertical-align: top;\n",
              "    }\n",
              "\n",
              "    .dataframe thead th {\n",
              "        text-align: right;\n",
              "    }\n",
              "</style>\n",
              "<table border=\"1\" class=\"dataframe\">\n",
              "  <thead>\n",
              "    <tr style=\"text-align: right;\">\n",
              "      <th></th>\n",
              "      <th>cement</th>\n",
              "      <th>slag</th>\n",
              "      <th>ash</th>\n",
              "      <th>water</th>\n",
              "      <th>superplastic</th>\n",
              "      <th>coarseagg</th>\n",
              "      <th>fineagg</th>\n",
              "      <th>age</th>\n",
              "      <th>strength</th>\n",
              "    </tr>\n",
              "  </thead>\n",
              "  <tbody>\n",
              "    <tr>\n",
              "      <th>0</th>\n",
              "      <td>141.3</td>\n",
              "      <td>212.0</td>\n",
              "      <td>NaN</td>\n",
              "      <td>203.5</td>\n",
              "      <td>NaN</td>\n",
              "      <td>971.8</td>\n",
              "      <td>748.5</td>\n",
              "      <td>28</td>\n",
              "      <td>29.89</td>\n",
              "    </tr>\n",
              "    <tr>\n",
              "      <th>1</th>\n",
              "      <td>168.9</td>\n",
              "      <td>42.2</td>\n",
              "      <td>124.3</td>\n",
              "      <td>158.3</td>\n",
              "      <td>10.8</td>\n",
              "      <td>1080.8</td>\n",
              "      <td>796.2</td>\n",
              "      <td>14</td>\n",
              "      <td>23.51</td>\n",
              "    </tr>\n",
              "    <tr>\n",
              "      <th>2</th>\n",
              "      <td>250.0</td>\n",
              "      <td>NaN</td>\n",
              "      <td>95.7</td>\n",
              "      <td>187.4</td>\n",
              "      <td>5.5</td>\n",
              "      <td>956.9</td>\n",
              "      <td>861.2</td>\n",
              "      <td>28</td>\n",
              "      <td>29.22</td>\n",
              "    </tr>\n",
              "    <tr>\n",
              "      <th>3</th>\n",
              "      <td>266.0</td>\n",
              "      <td>114.0</td>\n",
              "      <td>NaN</td>\n",
              "      <td>228.0</td>\n",
              "      <td>NaN</td>\n",
              "      <td>932.0</td>\n",
              "      <td>670.0</td>\n",
              "      <td>28</td>\n",
              "      <td>45.85</td>\n",
              "    </tr>\n",
              "    <tr>\n",
              "      <th>4</th>\n",
              "      <td>154.8</td>\n",
              "      <td>183.4</td>\n",
              "      <td>NaN</td>\n",
              "      <td>193.3</td>\n",
              "      <td>9.1</td>\n",
              "      <td>1047.4</td>\n",
              "      <td>696.7</td>\n",
              "      <td>28</td>\n",
              "      <td>18.29</td>\n",
              "    </tr>\n",
              "    <tr>\n",
              "      <th>5</th>\n",
              "      <td>255.0</td>\n",
              "      <td>NaN</td>\n",
              "      <td>NaN</td>\n",
              "      <td>192.0</td>\n",
              "      <td>NaN</td>\n",
              "      <td>889.8</td>\n",
              "      <td>945.0</td>\n",
              "      <td>90</td>\n",
              "      <td>21.86</td>\n",
              "    </tr>\n",
              "    <tr>\n",
              "      <th>6</th>\n",
              "      <td>166.8</td>\n",
              "      <td>250.2</td>\n",
              "      <td>NaN</td>\n",
              "      <td>203.5</td>\n",
              "      <td>NaN</td>\n",
              "      <td>975.6</td>\n",
              "      <td>692.6</td>\n",
              "      <td>7</td>\n",
              "      <td>15.75</td>\n",
              "    </tr>\n",
              "    <tr>\n",
              "      <th>7</th>\n",
              "      <td>251.4</td>\n",
              "      <td>NaN</td>\n",
              "      <td>118.3</td>\n",
              "      <td>188.5</td>\n",
              "      <td>6.4</td>\n",
              "      <td>1028.4</td>\n",
              "      <td>757.7</td>\n",
              "      <td>56</td>\n",
              "      <td>36.64</td>\n",
              "    </tr>\n",
              "    <tr>\n",
              "      <th>8</th>\n",
              "      <td>296.0</td>\n",
              "      <td>NaN</td>\n",
              "      <td>NaN</td>\n",
              "      <td>192.0</td>\n",
              "      <td>NaN</td>\n",
              "      <td>1085.0</td>\n",
              "      <td>765.0</td>\n",
              "      <td>28</td>\n",
              "      <td>21.65</td>\n",
              "    </tr>\n",
              "    <tr>\n",
              "      <th>9</th>\n",
              "      <td>155.0</td>\n",
              "      <td>184.0</td>\n",
              "      <td>143.0</td>\n",
              "      <td>194.0</td>\n",
              "      <td>9.0</td>\n",
              "      <td>880.0</td>\n",
              "      <td>699.0</td>\n",
              "      <td>28</td>\n",
              "      <td>28.99</td>\n",
              "    </tr>\n",
              "  </tbody>\n",
              "</table>\n",
              "</div>"
            ],
            "text/plain": [
              "   cement   slag    ash  water  superplastic  coarseagg  fineagg  age  strength\n",
              "0   141.3  212.0    NaN  203.5           NaN      971.8    748.5   28     29.89\n",
              "1   168.9   42.2  124.3  158.3          10.8     1080.8    796.2   14     23.51\n",
              "2   250.0    NaN   95.7  187.4           5.5      956.9    861.2   28     29.22\n",
              "3   266.0  114.0    NaN  228.0           NaN      932.0    670.0   28     45.85\n",
              "4   154.8  183.4    NaN  193.3           9.1     1047.4    696.7   28     18.29\n",
              "5   255.0    NaN    NaN  192.0           NaN      889.8    945.0   90     21.86\n",
              "6   166.8  250.2    NaN  203.5           NaN      975.6    692.6    7     15.75\n",
              "7   251.4    NaN  118.3  188.5           6.4     1028.4    757.7   56     36.64\n",
              "8   296.0    NaN    NaN  192.0           NaN     1085.0    765.0   28     21.65\n",
              "9   155.0  184.0  143.0  194.0           9.0      880.0    699.0   28     28.99"
            ]
          },
          "metadata": {},
          "execution_count": 4
        }
      ]
    },
    {
      "cell_type": "code",
      "metadata": {
        "_kg_hide-output": true,
        "_uuid": "a98e66b89be9c27fa284966eb71ba2ea09b4c5e1",
        "execution": {
          "iopub.execute_input": "2021-10-20T09:15:03.937395Z",
          "iopub.status.busy": "2021-10-20T09:15:03.937057Z",
          "iopub.status.idle": "2021-10-20T09:15:04.498110Z",
          "shell.execute_reply": "2021-10-20T09:15:04.497276Z",
          "shell.execute_reply.started": "2021-10-20T09:15:03.937335Z"
        },
        "colab": {
          "base_uri": "https://localhost:8080/",
          "height": 300
        },
        "id": "XWXBOQ6ID7vU",
        "outputId": "bb63ed10-a602-4707-c0b9-d846b9b6ae02"
      },
      "source": [
        "# fungsi describe() untuk mengetahui statistika data untuk data numeric seperti count, mean, standard deviation, maximum, mininum, dan quartile.\n",
        "concrete.describe()"
      ],
      "execution_count": 5,
      "outputs": [
        {
          "output_type": "execute_result",
          "data": {
            "text/html": [
              "<div>\n",
              "<style scoped>\n",
              "    .dataframe tbody tr th:only-of-type {\n",
              "        vertical-align: middle;\n",
              "    }\n",
              "\n",
              "    .dataframe tbody tr th {\n",
              "        vertical-align: top;\n",
              "    }\n",
              "\n",
              "    .dataframe thead th {\n",
              "        text-align: right;\n",
              "    }\n",
              "</style>\n",
              "<table border=\"1\" class=\"dataframe\">\n",
              "  <thead>\n",
              "    <tr style=\"text-align: right;\">\n",
              "      <th></th>\n",
              "      <th>cement</th>\n",
              "      <th>slag</th>\n",
              "      <th>ash</th>\n",
              "      <th>water</th>\n",
              "      <th>superplastic</th>\n",
              "      <th>coarseagg</th>\n",
              "      <th>fineagg</th>\n",
              "      <th>age</th>\n",
              "      <th>strength</th>\n",
              "    </tr>\n",
              "  </thead>\n",
              "  <tbody>\n",
              "    <tr>\n",
              "      <th>count</th>\n",
              "      <td>1030.000000</td>\n",
              "      <td>559.000000</td>\n",
              "      <td>464.000000</td>\n",
              "      <td>1030.000000</td>\n",
              "      <td>651.000000</td>\n",
              "      <td>1030.000000</td>\n",
              "      <td>1030.000000</td>\n",
              "      <td>1030.000000</td>\n",
              "      <td>1030.000000</td>\n",
              "    </tr>\n",
              "    <tr>\n",
              "      <th>mean</th>\n",
              "      <td>281.167864</td>\n",
              "      <td>136.158676</td>\n",
              "      <td>120.288793</td>\n",
              "      <td>181.567282</td>\n",
              "      <td>9.816897</td>\n",
              "      <td>972.918932</td>\n",
              "      <td>773.580485</td>\n",
              "      <td>45.662136</td>\n",
              "      <td>35.817961</td>\n",
              "    </tr>\n",
              "    <tr>\n",
              "      <th>std</th>\n",
              "      <td>104.506364</td>\n",
              "      <td>72.351823</td>\n",
              "      <td>33.675470</td>\n",
              "      <td>21.354219</td>\n",
              "      <td>4.580328</td>\n",
              "      <td>77.753954</td>\n",
              "      <td>80.175980</td>\n",
              "      <td>63.169912</td>\n",
              "      <td>16.705742</td>\n",
              "    </tr>\n",
              "    <tr>\n",
              "      <th>min</th>\n",
              "      <td>102.000000</td>\n",
              "      <td>11.000000</td>\n",
              "      <td>24.500000</td>\n",
              "      <td>121.800000</td>\n",
              "      <td>1.700000</td>\n",
              "      <td>801.000000</td>\n",
              "      <td>594.000000</td>\n",
              "      <td>1.000000</td>\n",
              "      <td>2.330000</td>\n",
              "    </tr>\n",
              "    <tr>\n",
              "      <th>25%</th>\n",
              "      <td>192.375000</td>\n",
              "      <td>95.000000</td>\n",
              "      <td>97.850000</td>\n",
              "      <td>164.900000</td>\n",
              "      <td>6.950000</td>\n",
              "      <td>932.000000</td>\n",
              "      <td>730.950000</td>\n",
              "      <td>7.000000</td>\n",
              "      <td>23.710000</td>\n",
              "    </tr>\n",
              "    <tr>\n",
              "      <th>50%</th>\n",
              "      <td>272.900000</td>\n",
              "      <td>135.700000</td>\n",
              "      <td>121.400000</td>\n",
              "      <td>185.000000</td>\n",
              "      <td>9.400000</td>\n",
              "      <td>968.000000</td>\n",
              "      <td>779.500000</td>\n",
              "      <td>28.000000</td>\n",
              "      <td>34.445000</td>\n",
              "    </tr>\n",
              "    <tr>\n",
              "      <th>75%</th>\n",
              "      <td>350.000000</td>\n",
              "      <td>189.000000</td>\n",
              "      <td>141.000000</td>\n",
              "      <td>192.000000</td>\n",
              "      <td>11.600000</td>\n",
              "      <td>1029.400000</td>\n",
              "      <td>824.000000</td>\n",
              "      <td>56.000000</td>\n",
              "      <td>46.135000</td>\n",
              "    </tr>\n",
              "    <tr>\n",
              "      <th>max</th>\n",
              "      <td>540.000000</td>\n",
              "      <td>359.400000</td>\n",
              "      <td>200.100000</td>\n",
              "      <td>247.000000</td>\n",
              "      <td>32.200000</td>\n",
              "      <td>1145.000000</td>\n",
              "      <td>992.600000</td>\n",
              "      <td>365.000000</td>\n",
              "      <td>82.600000</td>\n",
              "    </tr>\n",
              "  </tbody>\n",
              "</table>\n",
              "</div>"
            ],
            "text/plain": [
              "            cement        slag  ...          age     strength\n",
              "count  1030.000000  559.000000  ...  1030.000000  1030.000000\n",
              "mean    281.167864  136.158676  ...    45.662136    35.817961\n",
              "std     104.506364   72.351823  ...    63.169912    16.705742\n",
              "min     102.000000   11.000000  ...     1.000000     2.330000\n",
              "25%     192.375000   95.000000  ...     7.000000    23.710000\n",
              "50%     272.900000  135.700000  ...    28.000000    34.445000\n",
              "75%     350.000000  189.000000  ...    56.000000    46.135000\n",
              "max     540.000000  359.400000  ...   365.000000    82.600000\n",
              "\n",
              "[8 rows x 9 columns]"
            ]
          },
          "metadata": {},
          "execution_count": 5
        }
      ]
    },
    {
      "cell_type": "code",
      "metadata": {
        "_kg_hide-output": true,
        "_uuid": "0b18baf8d30016a2d3012c33a7b28068b045ad08",
        "execution": {
          "iopub.execute_input": "2021-10-20T09:15:09.618918Z",
          "iopub.status.busy": "2021-10-20T09:15:09.618451Z",
          "iopub.status.idle": "2021-10-20T09:15:09.962835Z",
          "shell.execute_reply": "2021-10-20T09:15:09.962032Z",
          "shell.execute_reply.started": "2021-10-20T09:15:09.618686Z"
        },
        "colab": {
          "base_uri": "https://localhost:8080/",
          "height": 0
        },
        "id": "G6278z9oD7vW",
        "outputId": "2e55898b-dc15-4fa5-867d-dd533622735c"
      },
      "source": [
        "#cek nilai yang hilang / missing values di dalam data train\n",
        "concrete.isnull().sum().sort_values(ascending=False)"
      ],
      "execution_count": 6,
      "outputs": [
        {
          "output_type": "execute_result",
          "data": {
            "text/plain": [
              "ash             566\n",
              "slag            471\n",
              "superplastic    379\n",
              "strength          0\n",
              "age               0\n",
              "fineagg           0\n",
              "coarseagg         0\n",
              "water             0\n",
              "cement            0\n",
              "dtype: int64"
            ]
          },
          "metadata": {},
          "execution_count": 6
        }
      ]
    },
    {
      "cell_type": "markdown",
      "metadata": {
        "id": "F0t4IJFuD7vY"
      },
      "source": [
        "Missing values adalah nilai yang tidak terdefinisi di dataset. Bentuknya beragam, bisa berupa blank cell, ataupun simbol-simbol tertentu seperti NaN (Not a Number), NA (Not Available), ?, -, dan sebagainya. Missing values dapat menjadi masalah dalam analisis data serta tentunya dapat mempengaruhi hasil modelling machine learning."
      ]
    },
    {
      "cell_type": "markdown",
      "metadata": {
        "id": "e92tlopSD7vZ"
      },
      "source": [
        "**Lakukan pemeriksaan dan perubahan data kosong setiap kolom pada data train:**\n",
        "1. cement (kg)\n",
        "2. slag (blast furnace slag, kg)\n",
        "3. ash (fly ash, kg)\n",
        "4. water (kg)\n",
        "5. superplastic (superplasticizer, kg)\n",
        "6. coarseagg (coarse aggregate, kg)\n",
        "7. fineagg (fine aggregate, kg)\n",
        "8. age (days, 1-365)\n",
        "9. strength (Concrete compressive strength, MPa)"
      ]
    },
    {
      "cell_type": "markdown",
      "metadata": {
        "id": "EYgIOwfCD7va"
      },
      "source": [
        "### Instruksi Praktikum untuk mahasiswa FIKTI dan FTI (kecuali Teknik Industri, Teknik Mesin dan Agroteknologi)\n",
        "\n",
        "* Lakukan teknik data cleaning untuk data yang bernilai NaN pada Dataset concrete.  (Ubah data bernilai NaN menjadi 0)\n",
        "* Transformasikan data pada kolom strength menjadi kolom baru bernama 'Category', dengan ketentuan :\n",
        "   1. jika nilai >= 65 = 'Hard'\n",
        "   2. jika nilai >= 40 = 'Medium'\n",
        "   3. Jika nilai < 40 = 'Light'\n",
        "* Lakukan analisis histogram untuk pengaruh kolom age terhadap kolom strength, apakah yang dapat Anda simpulkan ?\n",
        "* Cari tahu komposisi concrete yang memiliki kekuatan tertinggi dan terendah\n",
        "* Berikan kesimpulan akhir anda terhadap pengaruh komposisi concrete berdasarkan dataset yang digunakan"
      ]
    },
    {
      "cell_type": "markdown",
      "metadata": {
        "id": "mL1VacAcD7vc"
      },
      "source": [
        "### Instruksi Praktikum mahasiswa Tekrek : Teknik Industri, Teknik Mesin, Agroteknologi dan FTSP \n",
        "\n",
        "* Transformasikan data pada kolom strength menjadi kolom baru bernama 'Category', dengan ketentuan :\n",
        "   1. jika nilai >= 65 = 'Hard'\n",
        "   2. jika nilai >= 40 = 'Medium'\n",
        "   3. Jika nilai < 40 = 'Light'\n",
        "* Lakukan analisis histogram untuk pengaruh kolom age terhadap kolom strength, apakah yang dapat Anda simpulkan ?\n",
        "* Cari tahu komposisi concrete yang memiliki kekuatan tertinggi dan terendah\n",
        "* Berikan kesimpulan akhir anda terhadap pengaruh komposisi concrete berdasarkan dataset yang digunakan"
      ]
    },
    {
      "cell_type": "markdown",
      "metadata": {
        "id": "_HfRILKID7vd"
      },
      "source": [
        "## JAWABAN ##"
      ]
    },
    {
      "cell_type": "markdown",
      "metadata": {
        "id": "1_qXRTTIHZyd"
      },
      "source": [
        "## 1. Data Cleansing :"
      ]
    },
    {
      "cell_type": "code",
      "metadata": {
        "colab": {
          "base_uri": "https://localhost:8080/",
          "height": 0
        },
        "id": "8t3KUjnuHhW0",
        "outputId": "e56bd5b5-ff50-44f0-d032-9bd6da5999ea"
      },
      "source": [
        "concrete.shape #cek banyak data sebelum dihapus"
      ],
      "execution_count": 7,
      "outputs": [
        {
          "output_type": "execute_result",
          "data": {
            "text/plain": [
              "(1030, 9)"
            ]
          },
          "metadata": {},
          "execution_count": 7
        }
      ]
    },
    {
      "cell_type": "code",
      "metadata": {
        "colab": {
          "base_uri": "https://localhost:8080/",
          "height": 0
        },
        "id": "LNu32DeaNX52",
        "outputId": "68aec2d8-c01a-412a-fc80-dcc58eae9c52"
      },
      "source": [
        "concrete.dtypes"
      ],
      "execution_count": 8,
      "outputs": [
        {
          "output_type": "execute_result",
          "data": {
            "text/plain": [
              "cement          float64\n",
              "slag            float64\n",
              "ash             float64\n",
              "water           float64\n",
              "superplastic    float64\n",
              "coarseagg       float64\n",
              "fineagg         float64\n",
              "age               int64\n",
              "strength        float64\n",
              "dtype: object"
            ]
          },
          "metadata": {},
          "execution_count": 8
        }
      ]
    },
    {
      "cell_type": "code",
      "metadata": {
        "id": "fSKq27-7HwIi"
      },
      "source": [
        "concrete = concrete.drop(concrete[concrete.isnull().any(1)].index, axis = 0)\n",
        "#Hapus data NaN"
      ],
      "execution_count": 9,
      "outputs": []
    },
    {
      "cell_type": "code",
      "metadata": {
        "colab": {
          "base_uri": "https://localhost:8080/",
          "height": 0
        },
        "id": "YQgrJvTlIYJ4",
        "outputId": "29a32f82-5246-4b66-b881-3c5880a48955"
      },
      "source": [
        "#Cek lagi dimensi data \n",
        "concrete.shape"
      ],
      "execution_count": 10,
      "outputs": [
        {
          "output_type": "execute_result",
          "data": {
            "text/plain": [
              "(225, 9)"
            ]
          },
          "metadata": {},
          "execution_count": 10
        }
      ]
    },
    {
      "cell_type": "markdown",
      "metadata": {
        "id": "ms7T641FIoEb"
      },
      "source": [
        "## Hasil Setelah di data cleansing :"
      ]
    },
    {
      "cell_type": "code",
      "metadata": {
        "colab": {
          "base_uri": "https://localhost:8080/",
          "height": 362
        },
        "id": "gPu1i1T8Ihpu",
        "outputId": "2b7b0ec5-a2bb-4783-ec2c-645579a32890"
      },
      "source": [
        "concrete.head(10)"
      ],
      "execution_count": 11,
      "outputs": [
        {
          "output_type": "execute_result",
          "data": {
            "text/html": [
              "<div>\n",
              "<style scoped>\n",
              "    .dataframe tbody tr th:only-of-type {\n",
              "        vertical-align: middle;\n",
              "    }\n",
              "\n",
              "    .dataframe tbody tr th {\n",
              "        vertical-align: top;\n",
              "    }\n",
              "\n",
              "    .dataframe thead th {\n",
              "        text-align: right;\n",
              "    }\n",
              "</style>\n",
              "<table border=\"1\" class=\"dataframe\">\n",
              "  <thead>\n",
              "    <tr style=\"text-align: right;\">\n",
              "      <th></th>\n",
              "      <th>cement</th>\n",
              "      <th>slag</th>\n",
              "      <th>ash</th>\n",
              "      <th>water</th>\n",
              "      <th>superplastic</th>\n",
              "      <th>coarseagg</th>\n",
              "      <th>fineagg</th>\n",
              "      <th>age</th>\n",
              "      <th>strength</th>\n",
              "    </tr>\n",
              "  </thead>\n",
              "  <tbody>\n",
              "    <tr>\n",
              "      <th>1</th>\n",
              "      <td>168.9</td>\n",
              "      <td>42.2</td>\n",
              "      <td>124.3</td>\n",
              "      <td>158.3</td>\n",
              "      <td>10.8</td>\n",
              "      <td>1080.8</td>\n",
              "      <td>796.2</td>\n",
              "      <td>14</td>\n",
              "      <td>23.51</td>\n",
              "    </tr>\n",
              "    <tr>\n",
              "      <th>9</th>\n",
              "      <td>155.0</td>\n",
              "      <td>184.0</td>\n",
              "      <td>143.0</td>\n",
              "      <td>194.0</td>\n",
              "      <td>9.0</td>\n",
              "      <td>880.0</td>\n",
              "      <td>699.0</td>\n",
              "      <td>28</td>\n",
              "      <td>28.99</td>\n",
              "    </tr>\n",
              "    <tr>\n",
              "      <th>10</th>\n",
              "      <td>151.8</td>\n",
              "      <td>178.1</td>\n",
              "      <td>138.7</td>\n",
              "      <td>167.5</td>\n",
              "      <td>18.3</td>\n",
              "      <td>944.0</td>\n",
              "      <td>694.6</td>\n",
              "      <td>28</td>\n",
              "      <td>36.35</td>\n",
              "    </tr>\n",
              "    <tr>\n",
              "      <th>14</th>\n",
              "      <td>167.0</td>\n",
              "      <td>187.0</td>\n",
              "      <td>195.0</td>\n",
              "      <td>185.0</td>\n",
              "      <td>7.0</td>\n",
              "      <td>898.0</td>\n",
              "      <td>636.0</td>\n",
              "      <td>28</td>\n",
              "      <td>23.89</td>\n",
              "    </tr>\n",
              "    <tr>\n",
              "      <th>15</th>\n",
              "      <td>213.8</td>\n",
              "      <td>98.1</td>\n",
              "      <td>24.5</td>\n",
              "      <td>181.7</td>\n",
              "      <td>6.7</td>\n",
              "      <td>1066.0</td>\n",
              "      <td>785.5</td>\n",
              "      <td>100</td>\n",
              "      <td>49.97</td>\n",
              "    </tr>\n",
              "    <tr>\n",
              "      <th>23</th>\n",
              "      <td>132.0</td>\n",
              "      <td>207.0</td>\n",
              "      <td>161.0</td>\n",
              "      <td>179.0</td>\n",
              "      <td>5.0</td>\n",
              "      <td>867.0</td>\n",
              "      <td>736.0</td>\n",
              "      <td>28</td>\n",
              "      <td>33.30</td>\n",
              "    </tr>\n",
              "    <tr>\n",
              "      <th>29</th>\n",
              "      <td>255.0</td>\n",
              "      <td>99.0</td>\n",
              "      <td>77.0</td>\n",
              "      <td>189.0</td>\n",
              "      <td>6.0</td>\n",
              "      <td>919.0</td>\n",
              "      <td>749.0</td>\n",
              "      <td>28</td>\n",
              "      <td>33.80</td>\n",
              "    </tr>\n",
              "    <tr>\n",
              "      <th>35</th>\n",
              "      <td>178.0</td>\n",
              "      <td>129.8</td>\n",
              "      <td>118.6</td>\n",
              "      <td>179.9</td>\n",
              "      <td>3.6</td>\n",
              "      <td>1007.3</td>\n",
              "      <td>746.8</td>\n",
              "      <td>28</td>\n",
              "      <td>39.16</td>\n",
              "    </tr>\n",
              "    <tr>\n",
              "      <th>37</th>\n",
              "      <td>277.2</td>\n",
              "      <td>97.8</td>\n",
              "      <td>24.5</td>\n",
              "      <td>160.7</td>\n",
              "      <td>11.2</td>\n",
              "      <td>1061.7</td>\n",
              "      <td>782.5</td>\n",
              "      <td>14</td>\n",
              "      <td>47.71</td>\n",
              "    </tr>\n",
              "    <tr>\n",
              "      <th>39</th>\n",
              "      <td>167.0</td>\n",
              "      <td>75.4</td>\n",
              "      <td>167.0</td>\n",
              "      <td>164.0</td>\n",
              "      <td>7.9</td>\n",
              "      <td>1007.3</td>\n",
              "      <td>770.1</td>\n",
              "      <td>28</td>\n",
              "      <td>41.41</td>\n",
              "    </tr>\n",
              "  </tbody>\n",
              "</table>\n",
              "</div>"
            ],
            "text/plain": [
              "    cement   slag    ash  water  ...  coarseagg  fineagg  age  strength\n",
              "1    168.9   42.2  124.3  158.3  ...     1080.8    796.2   14     23.51\n",
              "9    155.0  184.0  143.0  194.0  ...      880.0    699.0   28     28.99\n",
              "10   151.8  178.1  138.7  167.5  ...      944.0    694.6   28     36.35\n",
              "14   167.0  187.0  195.0  185.0  ...      898.0    636.0   28     23.89\n",
              "15   213.8   98.1   24.5  181.7  ...     1066.0    785.5  100     49.97\n",
              "23   132.0  207.0  161.0  179.0  ...      867.0    736.0   28     33.30\n",
              "29   255.0   99.0   77.0  189.0  ...      919.0    749.0   28     33.80\n",
              "35   178.0  129.8  118.6  179.9  ...     1007.3    746.8   28     39.16\n",
              "37   277.2   97.8   24.5  160.7  ...     1061.7    782.5   14     47.71\n",
              "39   167.0   75.4  167.0  164.0  ...     1007.3    770.1   28     41.41\n",
              "\n",
              "[10 rows x 9 columns]"
            ]
          },
          "metadata": {},
          "execution_count": 11
        }
      ]
    },
    {
      "cell_type": "markdown",
      "metadata": {
        "id": "PcgASbgyN1OV"
      },
      "source": [
        "## 2. Mentransformasikan kolom strength"
      ]
    },
    {
      "cell_type": "code",
      "metadata": {
        "colab": {
          "base_uri": "https://localhost:8080/",
          "height": 206
        },
        "id": "OlnTctJkOfcp",
        "outputId": "30795ce6-1f00-4347-a109-aae3b4cb1ab7"
      },
      "source": [
        "concrete[\"strength\"] = concrete[\"strength\"].astype('category')\n",
        "concrete[\"Category\"] = concrete[\"strength\"].cat.codes\n",
        "concrete[[\"Category\"]].head()"
      ],
      "execution_count": 43,
      "outputs": [
        {
          "output_type": "execute_result",
          "data": {
            "text/html": [
              "<div>\n",
              "<style scoped>\n",
              "    .dataframe tbody tr th:only-of-type {\n",
              "        vertical-align: middle;\n",
              "    }\n",
              "\n",
              "    .dataframe tbody tr th {\n",
              "        vertical-align: top;\n",
              "    }\n",
              "\n",
              "    .dataframe thead th {\n",
              "        text-align: right;\n",
              "    }\n",
              "</style>\n",
              "<table border=\"1\" class=\"dataframe\">\n",
              "  <thead>\n",
              "    <tr style=\"text-align: right;\">\n",
              "      <th></th>\n",
              "      <th>Category</th>\n",
              "    </tr>\n",
              "  </thead>\n",
              "  <tbody>\n",
              "    <tr>\n",
              "      <th>1</th>\n",
              "      <td>28</td>\n",
              "    </tr>\n",
              "    <tr>\n",
              "      <th>9</th>\n",
              "      <td>51</td>\n",
              "    </tr>\n",
              "    <tr>\n",
              "      <th>10</th>\n",
              "      <td>92</td>\n",
              "    </tr>\n",
              "    <tr>\n",
              "      <th>14</th>\n",
              "      <td>33</td>\n",
              "    </tr>\n",
              "    <tr>\n",
              "      <th>15</th>\n",
              "      <td>144</td>\n",
              "    </tr>\n",
              "  </tbody>\n",
              "</table>\n",
              "</div>"
            ],
            "text/plain": [
              "    Category\n",
              "1         28\n",
              "9         51\n",
              "10        92\n",
              "14        33\n",
              "15       144"
            ]
          },
          "metadata": {},
          "execution_count": 43
        }
      ]
    },
    {
      "cell_type": "code",
      "metadata": {
        "id": "p5_4IwhAPNGw"
      },
      "source": [
        "Hard = concrete[concrete[\"Category\"] >= 60]\n",
        "Medium = concrete[concrete[\"Category\"] >= 40]\n",
        "Light = concrete[concrete[\"Category\"] < 40]\n"
      ],
      "execution_count": 52,
      "outputs": []
    },
    {
      "cell_type": "markdown",
      "metadata": {
        "id": "wAea3e2jQRX3"
      },
      "source": [
        "## 3. Analisis Histogram kolom age dengan strength"
      ]
    },
    {
      "cell_type": "code",
      "metadata": {
        "colab": {
          "base_uri": "https://localhost:8080/",
          "height": 513
        },
        "id": "zwTxhjKXfCfJ",
        "outputId": "6fde9783-efbb-4666-d643-62974c943384"
      },
      "source": [
        "plt.figure(figsize = (5,5))\n",
        "sns.jointplot(concrete.Category,concrete.age,kind=\"reg\")\n",
        "plt.show()"
      ],
      "execution_count": 60,
      "outputs": [
        {
          "output_type": "stream",
          "name": "stderr",
          "text": [
            "/usr/local/lib/python3.7/dist-packages/seaborn/_decorators.py:43: FutureWarning: Pass the following variables as keyword args: x, y. From version 0.12, the only valid positional argument will be `data`, and passing other arguments without an explicit keyword will result in an error or misinterpretation.\n",
            "  FutureWarning\n"
          ]
        },
        {
          "output_type": "display_data",
          "data": {
            "text/plain": [
              "<Figure size 360x360 with 0 Axes>"
            ]
          },
          "metadata": {}
        },
        {
          "output_type": "display_data",
          "data": {
            "image/png": "[encoded data removed]",
            "text/plain": [
              "<Figure size 432x432 with 3 Axes>"
            ]
          },
          "metadata": {
            "needs_background": "light"
          }
        }
      ]
    },
    {
      "cell_type": "markdown",
      "metadata": {
        "id": "flRNdeAff9WY"
      },
      "source": [
        "##Kesimpulan Diagram\n",
        "\n",
        "Pada diagram diatas terdapat hubungan kolom age dengan strength yang mana jika strength makin besar maka age juga makin besar. Yang berarti Beton yang mempunyai umur yang panjang memiliki kekuatan paling besar."
      ]
    },
    {
      "cell_type": "markdown",
      "metadata": {
        "id": "qp5_GiN0g_f0"
      },
      "source": [
        "## 4. Komposisi concrete"
      ]
    },
    {
      "cell_type": "markdown",
      "metadata": {
        "id": "VO8pIgMKmXsU"
      },
      "source": [
        "### A. Hard Concrete"
      ]
    },
    {
      "cell_type": "code",
      "metadata": {
        "colab": {
          "base_uri": "https://localhost:8080/",
          "height": 441
        },
        "id": "--1beKcshhQW",
        "outputId": "38a682ec-29f1-4f9f-a1ba-8d01bf248aee"
      },
      "source": [
        "f , ax = plt.subplots(figsize= (6,6))\n",
        "sns.heatmap(Hard.corr(), annot= True, linewidths = 0.5, fmt = \".1f\", ax=ax)\n",
        "plt.xticks(rotation=90)\n",
        "plt.yticks(rotation=0)\n",
        "plt.title('Correlation Hard Concrete Map ')\n",
        "plt.savefig('graph_Hard_correlation.png')\n",
        "plt.show()"
      ],
      "execution_count": 62,
      "outputs": [
        {
          "output_type": "display_data",
          "data": {
            "image/png": "[encoded data removed]",
            "text/plain": [
              "<Figure size 432x432 with 2 Axes>"
            ]
          },
          "metadata": {
            "needs_background": "light"
          }
        }
      ]
    },
    {
      "cell_type": "markdown",
      "metadata": {
        "id": "UtbaPOrjnTYg"
      },
      "source": [
        "### Penjelasan :\n",
        "pada concrete category Hard ada korelasi positif antara : colom slag dgn water , coarseagg dgn age, age dgn category . yg mana nilainya hampir ke 0.5. "
      ]
    },
    {
      "cell_type": "markdown",
      "metadata": {
        "id": "gD7r1fIborGx"
      },
      "source": [
        "## B. Medium Concrete"
      ]
    },
    {
      "cell_type": "code",
      "metadata": {
        "colab": {
          "base_uri": "https://localhost:8080/",
          "height": 441
        },
        "id": "EgiKFTMwoyYM",
        "outputId": "9d999b2b-028b-49b1-803f-be36e4912df6"
      },
      "source": [
        "f , ax = plt.subplots(figsize= (6,6))\n",
        "sns.heatmap(Medium.corr(), annot= True, linewidths = 0.5, fmt = \".1f\", ax=ax)\n",
        "plt.xticks(rotation=90)\n",
        "plt.yticks(rotation=0)\n",
        "plt.title('Correlation Medium Concrete Map ')\n",
        "plt.savefig('graph_medium_correlation.png')\n",
        "plt.show()"
      ],
      "execution_count": 63,
      "outputs": [
        {
          "output_type": "display_data",
          "data": {
            "image/png": "[encoded data removed]",
            "text/plain": [
              "<Figure size 432x432 with 2 Axes>"
            ]
          },
          "metadata": {
            "needs_background": "light"
          }
        }
      ]
    },
    {
      "cell_type": "markdown",
      "metadata": {
        "id": "4ifcX_JgpTra"
      },
      "source": [
        "### Penjelasan :\n",
        "pada concrete category Medium ada korelasi positif antara : colom slag dgn water , coarseagg dgn age, age dgn category , cement dengan age . yg mana nilainya  ke 0.4."
      ]
    },
    {
      "cell_type": "markdown",
      "metadata": {
        "id": "v9MxgNy9p_zj"
      },
      "source": [
        "## C. Light Concrete"
      ]
    },
    {
      "cell_type": "code",
      "metadata": {
        "colab": {
          "base_uri": "https://localhost:8080/",
          "height": 441
        },
        "id": "38YFVLjyqJfC",
        "outputId": "945d622d-34c3-40b1-9973-9f6dbe171ffe"
      },
      "source": [
        "f , ax = plt.subplots(figsize= (6,6))\n",
        "sns.heatmap(Light.corr(), annot= True, linewidths = 0.5, fmt = \".1f\", ax=ax)\n",
        "plt.xticks(rotation=90)\n",
        "plt.yticks(rotation=0)\n",
        "plt.title('Correlation Light Concrete Map ')\n",
        "plt.savefig('graph_medium_correlation.png')\n",
        "plt.show()"
      ],
      "execution_count": 64,
      "outputs": [
        {
          "output_type": "display_data",
          "data": {
            "image/png": "[encoded data removed]",
            "text/plain": [
              "<Figure size 432x432 with 2 Axes>"
            ]
          },
          "metadata": {
            "needs_background": "light"
          }
        }
      ]
    },
    {
      "cell_type": "markdown",
      "metadata": {
        "id": "7R8L7fQTqXEB"
      },
      "source": [
        "### Penjelasan :\n",
        "pada concrete category Light ada korelasi positif antara : colom water dgn slag , cement dengan superplastic , water dgn cement , water dgn age , cement dengan category bernilai 0.3 "
      ]
    },
    {
      "cell_type": "markdown",
      "metadata": {
        "id": "roydY9nFraiR"
      },
      "source": [
        "# Kesimpulan :\n",
        "\n",
        "Jadi , Kesimpulan pada penelitian concrete ini ada nya pengaruh yang berkorelasi positif terhadap kekuatan Category strength : Hard , Medium , Light.\n",
        "Kolom yang berkontribusi ialah : water dengan slag , coarseagg dengan age , cement dengan superolastic. Semakin mendekati ke 1 semakin kuat concrete dan age semakin besar / panjang."
      ]
    }
  ]
}