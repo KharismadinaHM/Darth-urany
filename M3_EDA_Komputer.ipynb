{
  "nbformat": 4,
  "nbformat_minor": 0,
  "metadata": {
    "kernelspec": {
      "display_name": "Python 3",
      "language": "python",
      "name": "python3"
    },
    "language_info": {
      "codemirror_mode": {
        "name": "ipython",
        "version": 3
      },
      "file_extension": ".py",
      "mimetype": "text/x-python",
      "name": "python",
      "nbconvert_exporter": "python",
      "pygments_lexer": "ipython3",
      "version": "3.6.9"
    },
    "colab": {
      "name": "M3_EDA-Komputer.ipynb",
      "provenance": [],
      "collapsed_sections": [],
      "include_colab_link": true
    }
  },
  "cells": [
    {
      "cell_type": "markdown",
      "metadata": {
        "id": "view-in-github",
        "colab_type": "text"
      },
      "source": [
        "<a href=\"https://colab.research.google.com/github/KharismadinaHM/Darth-urany/blob/master/M3_EDA_Komputer.ipynb\" target=\"_parent\"><img src=\"https://colab.research.google.com/assets/colab-badge.svg\" alt=\"Open In Colab\"/></a>"
      ]
    },
    {
      "cell_type": "markdown",
      "metadata": {
        "id": "dIQ6HphhLpoG"
      },
      "source": [
        "### Nama : KHARISMADINA HIJRA M\n",
        "### NPM  : 13119305\n",
        "### KELAS: 3KA01\n",
        "\n",
        "### Overview Dataset\n",
        "\n",
        "\"Data Sensus Penghasilan\". Data ini diambil dari database biro Sensus 1994 oleh Ronny Kohavi dan Barry Becker (Data Mining and Visualization, Silicon Graphics).\n",
        "\n",
        "Data set ini berisikan beberapa kategori sebagai berikut\n",
        "* age\n",
        "* sex\n",
        "* race\n",
        "* education\n",
        "* marital-status\n",
        "* workclass\n",
        "* occupation\n",
        "* relationship\n",
        "* native-country\n",
        "* hours-per-week\n",
        "* capital-loss\n",
        "* capital-gain\n",
        "* fnlwgt"
      ]
    },
    {
      "cell_type": "markdown",
      "metadata": {
        "id": "ZDFlweoNLpoV"
      },
      "source": [
        "# Exploratory Data Analysis (EDA)\n",
        "\n",
        "Pada praktikum ini, Anda akan melihat beberapa contoh Exploratory Data Analysis (EDA) pada data set sensus penghasilan. \n",
        "\n",
        "* [Pengambilan Data](#1)\n",
        "* [Univariate analysis](#2)\n",
        "* [Bivariate analysis](#3)"
      ]
    },
    {
      "cell_type": "markdown",
      "metadata": {
        "id": "Y8TEj5J3LpoY"
      },
      "source": [
        "# Instruksi Tugas Praktikum FIKTI dan FTI\n",
        "\n",
        "1. Buat dan jelaskan univariate analysis untuk kategori hours-per-week dan income\n",
        "2. Buat dan jelaskan Bivariate analysis untuk hubungan antara hours-per-week dan income\n"
      ]
    },
    {
      "cell_type": "markdown",
      "metadata": {
        "id": "ZPeNjHy1LpoZ"
      },
      "source": [
        "<a id=\"1\"></a>\n",
        "\n",
        "# 1. Pengambilan Data:"
      ]
    },
    {
      "cell_type": "markdown",
      "metadata": {
        "id": "dJkQOW9FLpoa"
      },
      "source": [
        "## 1.1 Import packages"
      ]
    },
    {
      "cell_type": "code",
      "metadata": {
        "id": "qO5PRhvnLpob"
      },
      "source": [
        "import numpy as np \n",
        "import pandas as pd \n",
        "import seaborn as sns\n",
        "import matplotlib.pyplot as plt\n",
        "%matplotlib inline\n",
        "import warnings\n",
        "warnings.filterwarnings(\"ignore\")\n",
        "from scipy.stats import ttest_ind, ttest_rel\n",
        "from scipy import stats"
      ],
      "execution_count": 2,
      "outputs": []
    },
    {
      "cell_type": "markdown",
      "metadata": {
        "id": "SgHF3cIiLpog"
      },
      "source": [
        "## 1.2 Import data"
      ]
    },
    {
      "cell_type": "code",
      "metadata": {
        "colab": {
          "base_uri": "https://localhost:8080/",
          "height": 351
        },
        "id": "ux8wL_vhLpoi",
        "outputId": "2e37d139-6123-4496-af65-c04b8df4892d"
      },
      "source": [
        "data = pd.read_csv(\"https://gitlab.com/andreass.bayu/file-directory/-/raw/main/adult.csv\")\n",
        "data.head(10)"
      ],
      "execution_count": 3,
      "outputs": [
        {
          "output_type": "execute_result",
          "data": {
            "text/html": [
              "<div>\n",
              "<style scoped>\n",
              "    .dataframe tbody tr th:only-of-type {\n",
              "        vertical-align: middle;\n",
              "    }\n",
              "\n",
              "    .dataframe tbody tr th {\n",
              "        vertical-align: top;\n",
              "    }\n",
              "\n",
              "    .dataframe thead th {\n",
              "        text-align: right;\n",
              "    }\n",
              "</style>\n",
              "<table border=\"1\" class=\"dataframe\">\n",
              "  <thead>\n",
              "    <tr style=\"text-align: right;\">\n",
              "      <th></th>\n",
              "      <th>age</th>\n",
              "      <th>workclass</th>\n",
              "      <th>fnlwgt</th>\n",
              "      <th>education</th>\n",
              "      <th>educational-num</th>\n",
              "      <th>marital-status</th>\n",
              "      <th>occupation</th>\n",
              "      <th>relationship</th>\n",
              "      <th>race</th>\n",
              "      <th>gender</th>\n",
              "      <th>capital-gain</th>\n",
              "      <th>capital-loss</th>\n",
              "      <th>hours-per-week</th>\n",
              "      <th>native-country</th>\n",
              "      <th>income</th>\n",
              "    </tr>\n",
              "  </thead>\n",
              "  <tbody>\n",
              "    <tr>\n",
              "      <th>0</th>\n",
              "      <td>25</td>\n",
              "      <td>Private</td>\n",
              "      <td>226802</td>\n",
              "      <td>11th</td>\n",
              "      <td>7</td>\n",
              "      <td>Never-married</td>\n",
              "      <td>Machine-op-inspct</td>\n",
              "      <td>Own-child</td>\n",
              "      <td>Black</td>\n",
              "      <td>Male</td>\n",
              "      <td>0</td>\n",
              "      <td>0</td>\n",
              "      <td>40</td>\n",
              "      <td>United-States</td>\n",
              "      <td>&lt;=50K</td>\n",
              "    </tr>\n",
              "    <tr>\n",
              "      <th>1</th>\n",
              "      <td>38</td>\n",
              "      <td>Private</td>\n",
              "      <td>89814</td>\n",
              "      <td>HS-grad</td>\n",
              "      <td>9</td>\n",
              "      <td>Married-civ-spouse</td>\n",
              "      <td>Farming-fishing</td>\n",
              "      <td>Husband</td>\n",
              "      <td>White</td>\n",
              "      <td>Male</td>\n",
              "      <td>0</td>\n",
              "      <td>0</td>\n",
              "      <td>50</td>\n",
              "      <td>United-States</td>\n",
              "      <td>&lt;=50K</td>\n",
              "    </tr>\n",
              "    <tr>\n",
              "      <th>2</th>\n",
              "      <td>28</td>\n",
              "      <td>Local-gov</td>\n",
              "      <td>336951</td>\n",
              "      <td>Assoc-acdm</td>\n",
              "      <td>12</td>\n",
              "      <td>Married-civ-spouse</td>\n",
              "      <td>Protective-serv</td>\n",
              "      <td>Husband</td>\n",
              "      <td>White</td>\n",
              "      <td>Male</td>\n",
              "      <td>0</td>\n",
              "      <td>0</td>\n",
              "      <td>40</td>\n",
              "      <td>United-States</td>\n",
              "      <td>&gt;50K</td>\n",
              "    </tr>\n",
              "    <tr>\n",
              "      <th>3</th>\n",
              "      <td>44</td>\n",
              "      <td>Private</td>\n",
              "      <td>160323</td>\n",
              "      <td>Some-college</td>\n",
              "      <td>10</td>\n",
              "      <td>Married-civ-spouse</td>\n",
              "      <td>Machine-op-inspct</td>\n",
              "      <td>Husband</td>\n",
              "      <td>Black</td>\n",
              "      <td>Male</td>\n",
              "      <td>7688</td>\n",
              "      <td>0</td>\n",
              "      <td>40</td>\n",
              "      <td>United-States</td>\n",
              "      <td>&gt;50K</td>\n",
              "    </tr>\n",
              "    <tr>\n",
              "      <th>4</th>\n",
              "      <td>18</td>\n",
              "      <td>?</td>\n",
              "      <td>103497</td>\n",
              "      <td>Some-college</td>\n",
              "      <td>10</td>\n",
              "      <td>Never-married</td>\n",
              "      <td>?</td>\n",
              "      <td>Own-child</td>\n",
              "      <td>White</td>\n",
              "      <td>Female</td>\n",
              "      <td>0</td>\n",
              "      <td>0</td>\n",
              "      <td>30</td>\n",
              "      <td>United-States</td>\n",
              "      <td>&lt;=50K</td>\n",
              "    </tr>\n",
              "    <tr>\n",
              "      <th>5</th>\n",
              "      <td>34</td>\n",
              "      <td>Private</td>\n",
              "      <td>198693</td>\n",
              "      <td>10th</td>\n",
              "      <td>6</td>\n",
              "      <td>Never-married</td>\n",
              "      <td>Other-service</td>\n",
              "      <td>Not-in-family</td>\n",
              "      <td>White</td>\n",
              "      <td>Male</td>\n",
              "      <td>0</td>\n",
              "      <td>0</td>\n",
              "      <td>30</td>\n",
              "      <td>United-States</td>\n",
              "      <td>&lt;=50K</td>\n",
              "    </tr>\n",
              "    <tr>\n",
              "      <th>6</th>\n",
              "      <td>29</td>\n",
              "      <td>?</td>\n",
              "      <td>227026</td>\n",
              "      <td>HS-grad</td>\n",
              "      <td>9</td>\n",
              "      <td>Never-married</td>\n",
              "      <td>?</td>\n",
              "      <td>Unmarried</td>\n",
              "      <td>Black</td>\n",
              "      <td>Male</td>\n",
              "      <td>0</td>\n",
              "      <td>0</td>\n",
              "      <td>40</td>\n",
              "      <td>United-States</td>\n",
              "      <td>&lt;=50K</td>\n",
              "    </tr>\n",
              "    <tr>\n",
              "      <th>7</th>\n",
              "      <td>63</td>\n",
              "      <td>Self-emp-not-inc</td>\n",
              "      <td>104626</td>\n",
              "      <td>Prof-school</td>\n",
              "      <td>15</td>\n",
              "      <td>Married-civ-spouse</td>\n",
              "      <td>Prof-specialty</td>\n",
              "      <td>Husband</td>\n",
              "      <td>White</td>\n",
              "      <td>Male</td>\n",
              "      <td>3103</td>\n",
              "      <td>0</td>\n",
              "      <td>32</td>\n",
              "      <td>United-States</td>\n",
              "      <td>&gt;50K</td>\n",
              "    </tr>\n",
              "    <tr>\n",
              "      <th>8</th>\n",
              "      <td>24</td>\n",
              "      <td>Private</td>\n",
              "      <td>369667</td>\n",
              "      <td>Some-college</td>\n",
              "      <td>10</td>\n",
              "      <td>Never-married</td>\n",
              "      <td>Other-service</td>\n",
              "      <td>Unmarried</td>\n",
              "      <td>White</td>\n",
              "      <td>Female</td>\n",
              "      <td>0</td>\n",
              "      <td>0</td>\n",
              "      <td>40</td>\n",
              "      <td>United-States</td>\n",
              "      <td>&lt;=50K</td>\n",
              "    </tr>\n",
              "    <tr>\n",
              "      <th>9</th>\n",
              "      <td>55</td>\n",
              "      <td>Private</td>\n",
              "      <td>104996</td>\n",
              "      <td>7th-8th</td>\n",
              "      <td>4</td>\n",
              "      <td>Married-civ-spouse</td>\n",
              "      <td>Craft-repair</td>\n",
              "      <td>Husband</td>\n",
              "      <td>White</td>\n",
              "      <td>Male</td>\n",
              "      <td>0</td>\n",
              "      <td>0</td>\n",
              "      <td>10</td>\n",
              "      <td>United-States</td>\n",
              "      <td>&lt;=50K</td>\n",
              "    </tr>\n",
              "  </tbody>\n",
              "</table>\n",
              "</div>"
            ],
            "text/plain": [
              "   age         workclass  fnlwgt  ... hours-per-week  native-country income\n",
              "0   25           Private  226802  ...             40   United-States  <=50K\n",
              "1   38           Private   89814  ...             50   United-States  <=50K\n",
              "2   28         Local-gov  336951  ...             40   United-States   >50K\n",
              "3   44           Private  160323  ...             40   United-States   >50K\n",
              "4   18                 ?  103497  ...             30   United-States  <=50K\n",
              "5   34           Private  198693  ...             30   United-States  <=50K\n",
              "6   29                 ?  227026  ...             40   United-States  <=50K\n",
              "7   63  Self-emp-not-inc  104626  ...             32   United-States   >50K\n",
              "8   24           Private  369667  ...             40   United-States  <=50K\n",
              "9   55           Private  104996  ...             10   United-States  <=50K\n",
              "\n",
              "[10 rows x 15 columns]"
            ]
          },
          "metadata": {},
          "execution_count": 3
        }
      ]
    },
    {
      "cell_type": "markdown",
      "metadata": {
        "id": "89ZE64U1Lpok"
      },
      "source": [
        "# 2. EDA"
      ]
    },
    {
      "cell_type": "markdown",
      "metadata": {
        "id": "km7d00euLpol"
      },
      "source": [
        "## 2.1.Univariate analysis\n",
        "<a id=\"2\"></a>"
      ]
    },
    {
      "cell_type": "markdown",
      "metadata": {
        "id": "DqUvRz0DLpol"
      },
      "source": [
        "## 2.1.1 Age"
      ]
    },
    {
      "cell_type": "markdown",
      "metadata": {
        "id": "_9AQckX1Lpol"
      },
      "source": [
        "### **i.\tDistribusi**"
      ]
    },
    {
      "cell_type": "code",
      "metadata": {
        "scrolled": false,
        "colab": {
          "base_uri": "https://localhost:8080/",
          "height": 482
        },
        "id": "uJ6TVSHgLpom",
        "outputId": "8e72b561-75e4-4a88-df96-258bb4c540f7"
      },
      "source": [
        "data['age'].hist(figsize=(8,8))\n",
        "plt.show()"
      ],
      "execution_count": 4,
      "outputs": [
        {
          "output_type": "display_data",
          "data": {
            "image/png": "[encoded data removed]",
            "text/plain": [
              "<Figure size 576x576 with 1 Axes>"
            ]
          },
          "metadata": {
            "needs_background": "light"
          }
        }
      ]
    },
    {
      "cell_type": "code",
      "metadata": {
        "colab": {
          "base_uri": "https://localhost:8080/",
          "height": 0
        },
        "id": "dJZLm4bpLpon",
        "outputId": "c2a689ca-e2e4-41c8-bc8c-356c3957ab68"
      },
      "source": [
        "data[data[\"age\"]>70].shape"
      ],
      "execution_count": 5,
      "outputs": [
        {
          "output_type": "execute_result",
          "data": {
            "text/plain": [
              "(868, 15)"
            ]
          },
          "metadata": {},
          "execution_count": 5
        }
      ]
    },
    {
      "cell_type": "markdown",
      "metadata": {
        "id": "D6Qm6WT7Lpon"
      },
      "source": [
        "### **ii.\tDeskripsi**\n",
        "Histogram di atas menjelaskan bahwa :\n",
        "*  atribut \"usia\" tidak simetris.\n",
        "*  miring ke kanan (Tapi ini baik karena orang dewasa yang lebih muda mendapatkan upah bukan yang lebih tua)\n",
        "*  Usia minimum dan maksimum orang adalah 17 dan 90 tahun.\n",
        "*  Dataset ini memiliki lebih sedikit pengamatan (868) tentang usia orang setelah usia tertentu, yaitu 70 tahun."
      ]
    },
    {
      "cell_type": "markdown",
      "metadata": {
        "id": "OMPKhrCULpon"
      },
      "source": [
        "## 2.1.2 Income"
      ]
    },
    {
      "cell_type": "markdown",
      "metadata": {
        "id": "CqhkakqpLpoo"
      },
      "source": [
        "### **i. Distribusi**"
      ]
    },
    {
      "cell_type": "code",
      "metadata": {
        "colab": {
          "base_uri": "https://localhost:8080/",
          "height": 442
        },
        "id": "9SzxQRr6Lpoo",
        "outputId": "2c7248ca-3526-4992-c924-9ff0b409429e"
      },
      "source": [
        "plt.figure(figsize=(7,7))\n",
        "total = float(len(data) )\n",
        "\n",
        "ax = sns.countplot(x=\"income\", data=data)\n",
        "for p in ax.patches:\n",
        "    height = p.get_height()\n",
        "    ax.text(p.get_x()+p.get_width()/2.,\n",
        "            height + 3,\n",
        "            '{:1.2f}'.format((height/total)*100),\n",
        "            ha=\"center\") \n",
        "plt.show()"
      ],
      "execution_count": 6,
      "outputs": [
        {
          "output_type": "display_data",
          "data": {
            "image/png": "[encoded data removed]",
            "text/plain": [
              "<Figure size 504x504 with 1 Axes>"
            ]
          },
          "metadata": {
            "needs_background": "light"
          }
        }
      ]
    },
    {
      "cell_type": "markdown",
      "metadata": {
        "id": "Tt4IRqI8Lpop"
      },
      "source": [
        "### **ii. Deskripsi**\n",
        "Distribusi di atas menjelaskan bahwa :\n",
        "* **Dataset ini tidak seimbang, yaitu 23,93% di antaranya termasuk dalam kelompok pendapatan 1 (yang berpenghasilan lebih dari \\\\$50K) dan 76% termasuk dalam kelompok pendapatan 0 (yang berpenghasilan kurang dari \\\\$50K).**"
      ]
    },
    {
      "cell_type": "markdown",
      "metadata": {
        "id": "uDibSOd8Lpop"
      },
      "source": [
        "<a id=\"3\"></a>\n",
        "# 2.2.Bivariate analysis"
      ]
    },
    {
      "cell_type": "markdown",
      "metadata": {
        "id": "NMZePMTALpop"
      },
      "source": [
        "## 2.2.1 Age - income (Hubungan)"
      ]
    },
    {
      "cell_type": "markdown",
      "metadata": {
        "id": "AnRbO5txLpoq"
      },
      "source": [
        "### i. **Boxplot**"
      ]
    },
    {
      "cell_type": "code",
      "metadata": {
        "colab": {
          "base_uri": "https://localhost:8080/",
          "height": 606
        },
        "id": "orhxPM7BLpoq",
        "outputId": "f4b1084f-c5da-4097-c4a1-7d6cd461ec46"
      },
      "source": [
        "fig = plt.figure(figsize=(10,10)) \n",
        "sns.boxplot(x=\"income\", y=\"age\", data=data)\n",
        "plt.show()"
      ],
      "execution_count": 7,
      "outputs": [
        {
          "output_type": "display_data",
          "data": {
            "image/png": "[encoded data removed]",
            "text/plain": [
              "<Figure size 720x720 with 1 Axes>"
            ]
          },
          "metadata": {
            "needs_background": "light"
          }
        }
      ]
    },
    {
      "cell_type": "code",
      "metadata": {
        "colab": {
          "base_uri": "https://localhost:8080/",
          "height": 108
        },
        "id": "N72KURFVLpoq",
        "outputId": "e7029cf3-6db5-42d6-92c4-017bfcf03988"
      },
      "source": [
        "data[['income', 'age']].groupby(['income'], as_index=False).mean().sort_values(by='age', ascending=False)"
      ],
      "execution_count": 8,
      "outputs": [
        {
          "output_type": "execute_result",
          "data": {
            "text/html": [
              "<div>\n",
              "<style scoped>\n",
              "    .dataframe tbody tr th:only-of-type {\n",
              "        vertical-align: middle;\n",
              "    }\n",
              "\n",
              "    .dataframe tbody tr th {\n",
              "        vertical-align: top;\n",
              "    }\n",
              "\n",
              "    .dataframe thead th {\n",
              "        text-align: right;\n",
              "    }\n",
              "</style>\n",
              "<table border=\"1\" class=\"dataframe\">\n",
              "  <thead>\n",
              "    <tr style=\"text-align: right;\">\n",
              "      <th></th>\n",
              "      <th>income</th>\n",
              "      <th>age</th>\n",
              "    </tr>\n",
              "  </thead>\n",
              "  <tbody>\n",
              "    <tr>\n",
              "      <th>1</th>\n",
              "      <td>&gt;50K</td>\n",
              "      <td>44.275178</td>\n",
              "    </tr>\n",
              "    <tr>\n",
              "      <th>0</th>\n",
              "      <td>&lt;=50K</td>\n",
              "      <td>36.872184</td>\n",
              "    </tr>\n",
              "  </tbody>\n",
              "</table>\n",
              "</div>"
            ],
            "text/plain": [
              "  income        age\n",
              "1   >50K  44.275178\n",
              "0  <=50K  36.872184"
            ]
          },
          "metadata": {},
          "execution_count": 8
        }
      ]
    },
    {
      "cell_type": "markdown",
      "metadata": {
        "id": "v65bg9VJLpor"
      },
      "source": [
        "### ii. Deskripsi\n",
        "Bivariate boxplot di atas menjelaskan bahwa :\n",
        "* Rata-rata \"usia\" untuk kelompok Penghasilan (<= \\\\$50K) adalah 36,8 tahun. Dan untuk kelompok Penghasilan (> \\\\$50K) adalah 44,2 tahun\n",
        "* Kelompok pendapatan(<=50K) memiliki median \"usia\"(34 tahun) lebih rendah daripada kelompok Pendapatan(>50K) yang memiliki median \"usia\"(42 tahun)."
      ]
    },
    {
      "cell_type": "markdown",
      "metadata": {
        "id": "CKVNz5ANLpos"
      },
      "source": [
        "### iii. Uji Hipotesis (untuk menguji hubungan antara Age & Income )\n",
        "**Two sampled T-test** :-Uji Independent Samples t Test atau 2-sample t-test membandingkan rata-rata dua kelompok independen untuk menentukan apakah ada bukti statistik bahwa rata-rata populasi terkait berbeda secara signifikan.\n"
      ]
    },
    {
      "cell_type": "markdown",
      "metadata": {
        "id": "0WKNYrjOLpos"
      },
      "source": [
        "Contoh : apakah ada hubungan antara usia dan pendapatan?"
      ]
    },
    {
      "cell_type": "markdown",
      "metadata": {
        "id": "GCfxSorALpot"
      },
      "source": [
        "Tentukan null dan alternate hypothesis.\n",
        "\n",
        "    Secara umum, null hypothesis akan menyatakan bahwa kedua populasi yang diuji tidak memiliki perbedaan yang signifikan secara statistik.\n",
        "    alternate hypothesis akan menyatakan bahwa ada perbedaan."
      ]
    },
    {
      "cell_type": "markdown",
      "metadata": {
        "id": "AMuzyUDULpou"
      },
      "source": [
        "Dalam contoh ini kita dapat mengatakan bahwa:\n",
        "*  Null Hypothesis :- tidak ada perbedaan Rerata usia kelompok pendapatan >50k dan kelompok pendapatan <=50k.\n",
        "*  Alternate Hypothesis :- ada perbedaan Rerata usia kelompok pendapatan >50k dan kelompok pendapatan <=50k."
      ]
    },
    {
      "cell_type": "code",
      "metadata": {
        "id": "r2-ILTdaLpou"
      },
      "source": [
        "import random\n",
        "\n",
        "data = data[(np.abs(stats.zscore(data[\"age\"])) < 3)] \n",
        "\n",
        "income_1 = data[data['income']=='<=50K']['age']\n",
        "income_0 = data[data['income']=='>50K']['age']\n",
        "\n",
        "income_0 = income_0.values.tolist()\n",
        "income_0 = random.sample(income_0, 100)\n",
        "income_1 = income_1.values.tolist()\n",
        "income_1 = random.sample(income_1, 100)\n"
      ],
      "execution_count": 9,
      "outputs": []
    },
    {
      "cell_type": "code",
      "metadata": {
        "colab": {
          "base_uri": "https://localhost:8080/",
          "height": 0
        },
        "id": "Qot3uvmdLpov",
        "outputId": "ae17378e-023f-4542-9a3c-99006e1830b1"
      },
      "source": [
        "from scipy.stats import ttest_ind\n",
        "ttest,pval = ttest_ind(income_1,income_0,equal_var = False)\n",
        "print(\"ttest\",ttest)\n",
        "print('p value',pval)\n",
        "\n",
        "\n",
        "if pval <0.05:\n",
        "    print(\"null hypothesis ditolak\")\n",
        "else:\n",
        "    print(\"null hypothesis diterima\")"
      ],
      "execution_count": 10,
      "outputs": [
        {
          "output_type": "stream",
          "name": "stdout",
          "text": [
            "ttest -4.714696275932005\n",
            "p value 4.730382675535507e-06\n",
            "null hypothesis ditolak\n"
          ]
        }
      ]
    },
    {
      "cell_type": "markdown",
      "metadata": {
        "id": "UwM4VR8rLpow"
      },
      "source": [
        "### iv. Kesimpulan akhir"
      ]
    },
    {
      "cell_type": "markdown",
      "metadata": {
        "id": "V7CU4EHbLpox"
      },
      "source": [
        "Menggunakan analisis statistik,\n",
        "\n",
        "    Dapat disimpulkan bahwa terdapat perbedaan yang signifikan pada rerata usia kelompok berpenghasilan >50K dan kelompok berpenghasilan <=50K.\n",
        "    Hal Ini membuktikan bahwa usia memiliki peranan dalam membedakan kelompok pendapatan."
      ]
    },
    {
      "cell_type": "markdown",
      "metadata": {
        "id": "fuVsVh-ELpoy"
      },
      "source": [
        "# Tugas"
      ]
    },
    {
      "cell_type": "markdown",
      "metadata": {
        "id": "JOU-aa1SLpoy"
      },
      "source": [
        "## 1. Univariate analysis"
      ]
    },
    {
      "cell_type": "markdown",
      "metadata": {
        "id": "KLoHbm2ILpoz"
      },
      "source": [
        "## 1.1 hours-per-week"
      ]
    },
    {
      "cell_type": "markdown",
      "metadata": {
        "id": "tkqHRPGwLpoz"
      },
      "source": [
        "### **i.\tDistribusi**"
      ]
    },
    {
      "cell_type": "code",
      "metadata": {
        "colab": {
          "base_uri": "https://localhost:8080/",
          "height": 498
        },
        "id": "H4vKdw7gLpoz",
        "outputId": "3ecf9496-9a91-487c-e727-ec4b5c31adbf"
      },
      "source": [
        "# Buat diagram hours-per-week\n",
        "data['hours-per-week'].hist(figsize=(9,8))\n",
        "plt.title(\"Diagram Distribusi Hours Per Week\")\n",
        "plt.show()\n"
      ],
      "execution_count": 11,
      "outputs": [
        {
          "output_type": "display_data",
          "data": {
            "image/png": "[encoded data removed]",
            "text/plain": [
              "<Figure size 648x576 with 1 Axes>"
            ]
          },
          "metadata": {
            "needs_background": "light"
          }
        }
      ]
    },
    {
      "cell_type": "code",
      "metadata": {
        "colab": {
          "base_uri": "https://localhost:8080/",
          "height": 0
        },
        "id": "lOMW7bkXbAua",
        "outputId": "c5a84467-7a5e-4d1d-de11-359828e6e24c"
      },
      "source": [
        "data[data[\"hours-per-week\"]==40].shape"
      ],
      "execution_count": 12,
      "outputs": [
        {
          "output_type": "execute_result",
          "data": {
            "text/plain": [
              "(22761, 15)"
            ]
          },
          "metadata": {},
          "execution_count": 12
        }
      ]
    },
    {
      "cell_type": "code",
      "metadata": {
        "colab": {
          "base_uri": "https://localhost:8080/",
          "height": 0
        },
        "id": "wS5uAVfVcrgy",
        "outputId": "7f6269e3-7058-455d-a97f-064a11833974"
      },
      "source": [
        "data[data[\"hours-per-week\"]>=80].shape"
      ],
      "execution_count": 13,
      "outputs": [
        {
          "output_type": "execute_result",
          "data": {
            "text/plain": [
              "(526, 15)"
            ]
          },
          "metadata": {},
          "execution_count": 13
        }
      ]
    },
    {
      "cell_type": "markdown",
      "metadata": {
        "id": "ipGad2yZLpoz"
      },
      "source": [
        "### **ii. Deskripsi**\n",
        "\n",
        "\n"
      ]
    },
    {
      "cell_type": "markdown",
      "metadata": {
        "id": "bSz-sl8J3sHH"
      },
      "source": [
        ""
      ]
    },
    {
      "cell_type": "code",
      "metadata": {
        "id": "WKFhKv_hLpo0"
      },
      "source": [
        "# Jelaskan hasil diagram tersebut\n",
        "1. Pada Diagram tersebut 40 hours per week merupakan data tertinggi sebanyak 22671 orang\n",
        "2. Lebih dari 80 hours per week merupakan data terendah sebanyak 526 orang\n",
        "3. Indikator dari 0 - 100 hours per weeks"
      ],
      "execution_count": null,
      "outputs": []
    },
    {
      "cell_type": "markdown",
      "metadata": {
        "id": "oyx17aggLpo0"
      },
      "source": [
        "## 1.2 Income"
      ]
    },
    {
      "cell_type": "markdown",
      "metadata": {
        "id": "wrD0YfKLLpo1"
      },
      "source": [
        "### **i.\tDistribusi**"
      ]
    },
    {
      "cell_type": "code",
      "metadata": {
        "id": "FkDRkWT8Lpo1",
        "colab": {
          "base_uri": "https://localhost:8080/",
          "height": 442
        },
        "outputId": "4484b65e-a3a4-47ba-ab05-b1fe06e115a8"
      },
      "source": [
        "# Buat diagram income\n",
        "plt.figure(figsize=(7,7))\n",
        "total = float(len(data) )\n",
        "\n",
        "ax = sns.histplot(x=\"income\", data=data)\n",
        "for p in ax.patches:\n",
        "    height = p.get_height()\n",
        "    ax.text(p.get_x()+p.get_width()/2.,\n",
        "            height + 3,\n",
        "            '{:1.2f}'.format((height/total)*100),\n",
        "            ha=\"center\") \n",
        "plt.show()"
      ],
      "execution_count": 21,
      "outputs": [
        {
          "output_type": "display_data",
          "data": {
            "image/png": "[encoded data removed]",
            "text/plain": [
              "<Figure size 504x504 with 1 Axes>"
            ]
          },
          "metadata": {
            "needs_background": "light"
          }
        }
      ]
    },
    {
      "cell_type": "markdown",
      "metadata": {
        "id": "YRoKmA4_Lpo1"
      },
      "source": [
        "### **ii. Deskripsi**"
      ]
    },
    {
      "cell_type": "code",
      "metadata": {
        "id": "TlqcbUqrLpo2"
      },
      "source": [
        "# Jelaskan hasil diagram tersebut\n",
        "\n",
        "sebanyak 76.04 % income data dibawah <=50 K dan kelompok pendapatan 1 sebesar 23.96 % dimana diagram tidak seimbang."
      ],
      "execution_count": null,
      "outputs": []
    },
    {
      "cell_type": "markdown",
      "metadata": {
        "id": "2WlevOHaLpo2"
      },
      "source": [
        "# 2. Bivariate analysis"
      ]
    },
    {
      "cell_type": "markdown",
      "metadata": {
        "id": "pg4FMJ_hLpo2"
      },
      "source": [
        "## 2.1 hours-per-week - income (Hubungan)"
      ]
    },
    {
      "cell_type": "code",
      "metadata": {
        "id": "SrD7jLU_Lpo2",
        "colab": {
          "base_uri": "https://localhost:8080/",
          "height": 497
        },
        "outputId": "6c94b026-dbad-4a9e-92d6-292804fd193a"
      },
      "source": [
        "# Buat diagram, hubungan hours-per-week dengan income\n",
        "fig = plt.figure(figsize=(8,8))\n",
        "sns.boxplot(x=\"hours-per-week\", y=\"income\", data=data)\n",
        "plt.show()"
      ],
      "execution_count": 23,
      "outputs": [
        {
          "output_type": "display_data",
          "data": {
            "image/png": "[encoded data removed]",
            "text/plain": [
              "<Figure size 576x576 with 1 Axes>"
            ]
          },
          "metadata": {
            "needs_background": "light"
          }
        }
      ]
    },
    {
      "cell_type": "code",
      "metadata": {
        "colab": {
          "base_uri": "https://localhost:8080/",
          "height": 108
        },
        "id": "iJ5iyTgO6bGv",
        "outputId": "bf74073f-f2d1-4cd3-c265-2d5767559ffe"
      },
      "source": [
        "data[['hours-per-week','income']].groupby(['income'], as_index=False).mean().sort_values(by='hours-per-week', ascending=False)"
      ],
      "execution_count": 24,
      "outputs": [
        {
          "output_type": "execute_result",
          "data": {
            "text/html": [
              "<div>\n",
              "<style scoped>\n",
              "    .dataframe tbody tr th:only-of-type {\n",
              "        vertical-align: middle;\n",
              "    }\n",
              "\n",
              "    .dataframe tbody tr th {\n",
              "        vertical-align: top;\n",
              "    }\n",
              "\n",
              "    .dataframe thead th {\n",
              "        text-align: right;\n",
              "    }\n",
              "</style>\n",
              "<table border=\"1\" class=\"dataframe\">\n",
              "  <thead>\n",
              "    <tr style=\"text-align: right;\">\n",
              "      <th></th>\n",
              "      <th>income</th>\n",
              "      <th>hours-per-week</th>\n",
              "    </tr>\n",
              "  </thead>\n",
              "  <tbody>\n",
              "    <tr>\n",
              "      <th>1</th>\n",
              "      <td>&gt;50K</td>\n",
              "      <td>45.468863</td>\n",
              "    </tr>\n",
              "    <tr>\n",
              "      <th>0</th>\n",
              "      <td>&lt;=50K</td>\n",
              "      <td>38.892967</td>\n",
              "    </tr>\n",
              "  </tbody>\n",
              "</table>\n",
              "</div>"
            ],
            "text/plain": [
              "  income  hours-per-week\n",
              "1   >50K       45.468863\n",
              "0  <=50K       38.892967"
            ]
          },
          "metadata": {},
          "execution_count": 24
        }
      ]
    },
    {
      "cell_type": "markdown",
      "metadata": {
        "id": "uZDAV75kLpo3"
      },
      "source": [
        "### ii. Deskripsi\n",
        "\n",
        "   "
      ]
    },
    {
      "cell_type": "code",
      "metadata": {
        "id": "ikCWXrMrLpo3"
      },
      "source": [
        "# jelaskan hasil diagram tersebut\n",
        "Pada diagram perhubungan diatas ialah membandingkan hours per week dan income , \n",
        "jika dilihat pada kelompok 1 gaji / income diatas 50K mempunyai jam kerja 45.4 hours per week nya\n",
        "ini dibandingkan dengan kelompok 0 gaji / income dibawah atau sama dengan 50K mempunyai jam kerja 38 hours per week\n",
        "lebih rendah 7 jam."
      ],
      "execution_count": null,
      "outputs": []
    },
    {
      "cell_type": "markdown",
      "metadata": {
        "id": "IZMydfMVLpo3"
      },
      "source": [
        "### iii. Uji Hipotesis (untuk menguji hubungan antara hours-per-week & Income )\n",
        "Dalam contoh ini kita dapat mengatakan bahwa:\n",
        "\n",
        "    Null Hypothesis :- tidak ada perbedaan Rerata kelompok pendapatan >50k dan kelompok pendapatan <=50k.\n",
        "    Alternate Hypothesis :- ada perbedaan Rerata kelompok pendapatan >50k dan kelompok pendapatan <=50k."
      ]
    },
    {
      "cell_type": "code",
      "metadata": {
        "id": "_t4HtpA8Lpo3",
        "colab": {
          "base_uri": "https://localhost:8080/",
          "height": 0
        },
        "outputId": "680d37c1-fd98-469d-8092-31d393730925"
      },
      "source": [
        "# Buat uji hipotesis untuk menentukan null atau alternate hypothesis\n",
        "import random\n",
        "from scipy.stats import ttest_ind\n",
        "\n",
        "data = data[(np.abs(stats.zscore(data[\"age\"]))< 3)]\n",
        "\n",
        "income_1 = data[data['income']=='<=50K']['hours-per-week']\n",
        "income_0 = data[data['income']=='>50K']['hours-per-week']\n",
        "\n",
        "income_0 = income_0.values.tolist()\n",
        "income_0 = random.sample(income_0, 100)\n",
        "income_1 = income_1.values.tolist()\n",
        "income_1 = random.sample(income_1, 100)\n",
        "\n",
        "ttest,pval = ttest_ind(income_1,income_0,equal_var= False)\n",
        "print(\"ttest\", ttest)\n",
        "print('p value', pval)\n",
        "\n",
        "if pval < 0.05:\n",
        "  print(\"null Hypothesis ditolak!!!\")\n",
        "else:\n",
        "  print(\"null Hypothesis diterima\")\n",
        "\n"
      ],
      "execution_count": 27,
      "outputs": [
        {
          "output_type": "stream",
          "name": "stdout",
          "text": [
            "ttest -2.6122461354870015\n",
            "p value 0.009692903302243233\n",
            "null Hypothesis ditolak!!!\n"
          ]
        }
      ]
    },
    {
      "cell_type": "markdown",
      "metadata": {
        "id": "zArS-MvZLpo3"
      },
      "source": [
        "### iv. Kesimpulan akhir\n"
      ]
    },
    {
      "cell_type": "code",
      "metadata": {
        "id": "gUEUGeAdLpo4"
      },
      "source": [
        "# Berikan kesimpulan\n",
        "\n",
        "Kesimpulannya ialah ada perbedaan antara kelompok income > 50K dengan kelompok <= 50 K.\n",
        "Karena Jika memiliki income lebih tinggi maka beban pekerjaan akan semakin bertambah dan waktu kerja juga menjadi bertambah.\n",
        "begitu juga dengan penghasilan yang rendah. "
      ],
      "execution_count": null,
      "outputs": []
    }
  ]
}