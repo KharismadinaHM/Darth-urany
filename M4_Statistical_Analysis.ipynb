{
  "nbformat": 4,
  "nbformat_minor": 0,
  "metadata": {
    "kernelspec": {
      "display_name": "Python 3",
      "language": "python",
      "name": "python3"
    },
    "language_info": {
      "codemirror_mode": {
        "name": "ipython",
        "version": 3
      },
      "file_extension": ".py",
      "mimetype": "text/x-python",
      "name": "python",
      "nbconvert_exporter": "python",
      "pygments_lexer": "ipython3",
      "version": "3.6.9"
    },
    "colab": {
      "name": "M4_Statistical-Analysis.ipynb",
      "provenance": [],
      "collapsed_sections": [],
      "include_colab_link": true
    }
  },
  "cells": [
    {
      "cell_type": "markdown",
      "metadata": {
        "id": "view-in-github",
        "colab_type": "text"
      },
      "source": [
        "<a href=\"https://colab.research.google.com/github/KharismadinaHM/Darth-urany/blob/master/M4_Statistical_Analysis.ipynb\" target=\"_parent\"><img src=\"https://colab.research.google.com/assets/colab-badge.svg\" alt=\"Open In Colab\"/></a>"
      ]
    },
    {
      "cell_type": "markdown",
      "metadata": {
        "id": "8UxCdI38I0Fs"
      },
      "source": [
        "### NAMA : Kharismadina Hijra Muhamad\n",
        "### NPM  : 13119305\n",
        "### KELAS: 3KA01"
      ]
    },
    {
      "cell_type": "markdown",
      "metadata": {
        "id": "FJnpJpdjImFP"
      },
      "source": [
        "### Overview Dataset\n",
        "\n",
        "\"Data Komponen Beton\".\n",
        "\n",
        "Data set ini berisikan beberapa kategori sebagai berikut\n",
        "* cement (kg)\n",
        "* slag (blast furnace slag, kg)\n",
        "* ash (fly ash, kg)\n",
        "* water (kg)\n",
        "* superplastic (superplasticizer, kg)\n",
        "* coarseagg (coarse aggregate, kg)\n",
        "* fineagg (fine aggregate, kg)\n",
        "* age (days, 1-365)\n",
        "* strength (Concrete compressive strength, MPa)"
      ]
    },
    {
      "cell_type": "markdown",
      "metadata": {
        "id": "f2Ynp2gIImFd"
      },
      "source": [
        "# Exploratory Data Analysis (EDA)\n"
      ]
    },
    {
      "cell_type": "markdown",
      "metadata": {
        "id": "Y_ZQ2VjKImFe"
      },
      "source": [
        "# Instruksi Tugas Praktikum FIKTI dan FTI\n",
        "\n",
        "1. Buat univariate dan bivariate analysis untuk data set di atas\n",
        "2. Jelaskan kesimpulan yang bisa di ambil dari analysis yg anda lakukan\n"
      ]
    },
    {
      "cell_type": "markdown",
      "metadata": {
        "id": "zLAFNa4PImFe"
      },
      "source": [
        "<a id=\"1\"></a>\n",
        "\n",
        "# 1. Pengambilan Data:"
      ]
    },
    {
      "cell_type": "markdown",
      "metadata": {
        "id": "SwHyJUQgImFf"
      },
      "source": [
        "## 1.1 Import packages"
      ]
    },
    {
      "cell_type": "code",
      "metadata": {
        "id": "oyqMZ4FNImFg"
      },
      "source": [
        "import numpy as np \n",
        "import pandas as pd \n",
        "import seaborn as sns\n",
        "import matplotlib.pyplot as plt\n",
        "%matplotlib inline\n",
        "import warnings\n",
        "warnings.filterwarnings(\"ignore\")\n",
        "from scipy.stats import ttest_ind, ttest_rel\n",
        "from scipy import stats"
      ],
      "execution_count": 1,
      "outputs": []
    },
    {
      "cell_type": "markdown",
      "metadata": {
        "id": "rQ6con-zImFi"
      },
      "source": [
        "## 1.2 Import data"
      ]
    },
    {
      "cell_type": "code",
      "metadata": {
        "colab": {
          "base_uri": "https://localhost:8080/",
          "height": 351
        },
        "id": "jcX00YYIImFj",
        "outputId": "af7e894c-a6f5-4553-bb19-a84250f76557"
      },
      "source": [
        "data = pd.read_csv(\"https://raw.githubusercontent.com/supasonicx/ATA-praktikum-01/main/concrete.csv\")\n",
        "data.head(10)"
      ],
      "execution_count": 3,
      "outputs": [
        {
          "output_type": "execute_result",
          "data": {
            "text/html": [
              "<div>\n",
              "<style scoped>\n",
              "    .dataframe tbody tr th:only-of-type {\n",
              "        vertical-align: middle;\n",
              "    }\n",
              "\n",
              "    .dataframe tbody tr th {\n",
              "        vertical-align: top;\n",
              "    }\n",
              "\n",
              "    .dataframe thead th {\n",
              "        text-align: right;\n",
              "    }\n",
              "</style>\n",
              "<table border=\"1\" class=\"dataframe\">\n",
              "  <thead>\n",
              "    <tr style=\"text-align: right;\">\n",
              "      <th></th>\n",
              "      <th>cement</th>\n",
              "      <th>slag</th>\n",
              "      <th>ash</th>\n",
              "      <th>water</th>\n",
              "      <th>superplastic</th>\n",
              "      <th>coarseagg</th>\n",
              "      <th>fineagg</th>\n",
              "      <th>age</th>\n",
              "      <th>strength</th>\n",
              "    </tr>\n",
              "  </thead>\n",
              "  <tbody>\n",
              "    <tr>\n",
              "      <th>0</th>\n",
              "      <td>141.3</td>\n",
              "      <td>212.0</td>\n",
              "      <td>0.0</td>\n",
              "      <td>203.5</td>\n",
              "      <td>0.0</td>\n",
              "      <td>971.8</td>\n",
              "      <td>748.5</td>\n",
              "      <td>28</td>\n",
              "      <td>29.89</td>\n",
              "    </tr>\n",
              "    <tr>\n",
              "      <th>1</th>\n",
              "      <td>168.9</td>\n",
              "      <td>42.2</td>\n",
              "      <td>124.3</td>\n",
              "      <td>158.3</td>\n",
              "      <td>10.8</td>\n",
              "      <td>1080.8</td>\n",
              "      <td>796.2</td>\n",
              "      <td>14</td>\n",
              "      <td>23.51</td>\n",
              "    </tr>\n",
              "    <tr>\n",
              "      <th>2</th>\n",
              "      <td>250.0</td>\n",
              "      <td>0.0</td>\n",
              "      <td>95.7</td>\n",
              "      <td>187.4</td>\n",
              "      <td>5.5</td>\n",
              "      <td>956.9</td>\n",
              "      <td>861.2</td>\n",
              "      <td>28</td>\n",
              "      <td>29.22</td>\n",
              "    </tr>\n",
              "    <tr>\n",
              "      <th>3</th>\n",
              "      <td>266.0</td>\n",
              "      <td>114.0</td>\n",
              "      <td>0.0</td>\n",
              "      <td>228.0</td>\n",
              "      <td>0.0</td>\n",
              "      <td>932.0</td>\n",
              "      <td>670.0</td>\n",
              "      <td>28</td>\n",
              "      <td>45.85</td>\n",
              "    </tr>\n",
              "    <tr>\n",
              "      <th>4</th>\n",
              "      <td>154.8</td>\n",
              "      <td>183.4</td>\n",
              "      <td>0.0</td>\n",
              "      <td>193.3</td>\n",
              "      <td>9.1</td>\n",
              "      <td>1047.4</td>\n",
              "      <td>696.7</td>\n",
              "      <td>28</td>\n",
              "      <td>18.29</td>\n",
              "    </tr>\n",
              "    <tr>\n",
              "      <th>5</th>\n",
              "      <td>255.0</td>\n",
              "      <td>0.0</td>\n",
              "      <td>0.0</td>\n",
              "      <td>192.0</td>\n",
              "      <td>0.0</td>\n",
              "      <td>889.8</td>\n",
              "      <td>945.0</td>\n",
              "      <td>90</td>\n",
              "      <td>21.86</td>\n",
              "    </tr>\n",
              "    <tr>\n",
              "      <th>6</th>\n",
              "      <td>166.8</td>\n",
              "      <td>250.2</td>\n",
              "      <td>0.0</td>\n",
              "      <td>203.5</td>\n",
              "      <td>0.0</td>\n",
              "      <td>975.6</td>\n",
              "      <td>692.6</td>\n",
              "      <td>7</td>\n",
              "      <td>15.75</td>\n",
              "    </tr>\n",
              "    <tr>\n",
              "      <th>7</th>\n",
              "      <td>251.4</td>\n",
              "      <td>0.0</td>\n",
              "      <td>118.3</td>\n",
              "      <td>188.5</td>\n",
              "      <td>6.4</td>\n",
              "      <td>1028.4</td>\n",
              "      <td>757.7</td>\n",
              "      <td>56</td>\n",
              "      <td>36.64</td>\n",
              "    </tr>\n",
              "    <tr>\n",
              "      <th>8</th>\n",
              "      <td>296.0</td>\n",
              "      <td>0.0</td>\n",
              "      <td>0.0</td>\n",
              "      <td>192.0</td>\n",
              "      <td>0.0</td>\n",
              "      <td>1085.0</td>\n",
              "      <td>765.0</td>\n",
              "      <td>28</td>\n",
              "      <td>21.65</td>\n",
              "    </tr>\n",
              "    <tr>\n",
              "      <th>9</th>\n",
              "      <td>155.0</td>\n",
              "      <td>184.0</td>\n",
              "      <td>143.0</td>\n",
              "      <td>194.0</td>\n",
              "      <td>9.0</td>\n",
              "      <td>880.0</td>\n",
              "      <td>699.0</td>\n",
              "      <td>28</td>\n",
              "      <td>28.99</td>\n",
              "    </tr>\n",
              "  </tbody>\n",
              "</table>\n",
              "</div>"
            ],
            "text/plain": [
              "   cement   slag    ash  water  superplastic  coarseagg  fineagg  age  strength\n",
              "0   141.3  212.0    0.0  203.5           0.0      971.8    748.5   28     29.89\n",
              "1   168.9   42.2  124.3  158.3          10.8     1080.8    796.2   14     23.51\n",
              "2   250.0    0.0   95.7  187.4           5.5      956.9    861.2   28     29.22\n",
              "3   266.0  114.0    0.0  228.0           0.0      932.0    670.0   28     45.85\n",
              "4   154.8  183.4    0.0  193.3           9.1     1047.4    696.7   28     18.29\n",
              "5   255.0    0.0    0.0  192.0           0.0      889.8    945.0   90     21.86\n",
              "6   166.8  250.2    0.0  203.5           0.0      975.6    692.6    7     15.75\n",
              "7   251.4    0.0  118.3  188.5           6.4     1028.4    757.7   56     36.64\n",
              "8   296.0    0.0    0.0  192.0           0.0     1085.0    765.0   28     21.65\n",
              "9   155.0  184.0  143.0  194.0           9.0      880.0    699.0   28     28.99"
            ]
          },
          "metadata": {},
          "execution_count": 3
        }
      ]
    },
    {
      "cell_type": "code",
      "metadata": {
        "colab": {
          "base_uri": "https://localhost:8080/",
          "height": 336
        },
        "id": "UjbCkiJTgW17",
        "outputId": "731970e6-839a-4638-ac39-5fe8360cd66a"
      },
      "source": [
        "sns.heatmap(data.corr() , annot=True)"
      ],
      "execution_count": 5,
      "outputs": [
        {
          "output_type": "execute_result",
          "data": {
            "text/plain": [
              "<matplotlib.axes._subplots.AxesSubplot at 0x7f7be6512310>"
            ]
          },
          "metadata": {},
          "execution_count": 5
        },
        {
          "output_type": "display_data",
          "data": {
            "image/png": "[encoded data removed]",
            "text/plain": [
              "<Figure size 432x288 with 2 Axes>"
            ]
          },
          "metadata": {
            "needs_background": "light"
          }
        }
      ]
    },
    {
      "cell_type": "markdown",
      "metadata": {
        "id": "ZmwnEdGxh8pC"
      },
      "source": [
        "### MENCARI KATEGORI DATA YG AKAN DIANALISIS\n",
        " Dari Heatmap diatas bisa didapatkan bahwa kategori data strength dan cement memiliki korelasi tertinggi. Maka , Kedua data tersebut akan diAnalisi lebih lanjut."
      ]
    },
    {
      "cell_type": "markdown",
      "metadata": {
        "id": "OEEW7uHOImFl"
      },
      "source": [
        "# 2. EDA"
      ]
    },
    {
      "cell_type": "markdown",
      "metadata": {
        "id": "VzCByHCXImFm"
      },
      "source": [
        "## 2.1.Univariate analysis\n",
        "<a id=\"2\"></a>"
      ]
    },
    {
      "cell_type": "markdown",
      "metadata": {
        "id": "fgMiaOSzImFn"
      },
      "source": [
        "## 2.1.1 Strength"
      ]
    },
    {
      "cell_type": "markdown",
      "metadata": {
        "id": "qwPYhhg9ImFn"
      },
      "source": [
        "### **i.\tDistribusi**"
      ]
    },
    {
      "cell_type": "code",
      "metadata": {
        "scrolled": false,
        "colab": {
          "base_uri": "https://localhost:8080/",
          "height": 295
        },
        "id": "mYIYZiYJImFo",
        "outputId": "2aca161b-47b2-46f1-d946-464ad3305de3"
      },
      "source": [
        "# Buat diagram di sini\n",
        "sns.distplot(a=data['strength'], kde= False)\n",
        "plt.title(\"Diagram Strength\")\n",
        "plt.show()"
      ],
      "execution_count": 11,
      "outputs": [
        {
          "output_type": "display_data",
          "data": {
            "image/png": "[encoded data removed]",
            "text/plain": [
              "<Figure size 432x288 with 1 Axes>"
            ]
          },
          "metadata": {
            "needs_background": "light"
          }
        }
      ]
    },
    {
      "cell_type": "code",
      "metadata": {
        "colab": {
          "base_uri": "https://localhost:8080/",
          "height": 0
        },
        "id": "BU4TEZoWldF-",
        "outputId": "a16c9c66-03d5-4b7a-9ae2-9a1eb0b98f84"
      },
      "source": [
        "data[data['strength']==40].shape"
      ],
      "execution_count": 13,
      "outputs": [
        {
          "output_type": "execute_result",
          "data": {
            "text/plain": [
              "(379, 9)"
            ]
          },
          "metadata": {},
          "execution_count": 13
        }
      ]
    },
    {
      "cell_type": "code",
      "metadata": {
        "colab": {
          "base_uri": "https://localhost:8080/",
          "height": 0
        },
        "id": "Ae94XodMnKy7",
        "outputId": "1e6908ed-368e-4163-d0ae-aa2f2f14f087"
      },
      "source": [
        "data['strength'].describe()"
      ],
      "execution_count": 17,
      "outputs": [
        {
          "output_type": "execute_result",
          "data": {
            "text/plain": [
              "count    1030.000000\n",
              "mean       35.817961\n",
              "std        16.705742\n",
              "min         2.330000\n",
              "25%        23.710000\n",
              "50%        34.445000\n",
              "75%        46.135000\n",
              "max        82.600000\n",
              "Name: strength, dtype: float64"
            ]
          },
          "metadata": {},
          "execution_count": 17
        }
      ]
    },
    {
      "cell_type": "markdown",
      "metadata": {
        "id": "51Wk2ADAImFo"
      },
      "source": [
        "### **ii.\tDeskripsi**"
      ]
    },
    {
      "cell_type": "markdown",
      "metadata": {
        "id": "5_VjqJ2gImFp"
      },
      "source": [
        "Diagram Strength ini menunjukkan pada kisaran range 30 sampai ke 45 memiliki data tertinggi dibanding dengan lainnya."
      ]
    },
    {
      "cell_type": "markdown",
      "metadata": {
        "id": "PrPKU86uma67"
      },
      "source": [
        "## 2.1.2 Cement"
      ]
    },
    {
      "cell_type": "markdown",
      "metadata": {
        "id": "9945AvbfmiRi"
      },
      "source": [
        "### **i. Diagram**"
      ]
    },
    {
      "cell_type": "code",
      "metadata": {
        "scrolled": false,
        "colab": {
          "base_uri": "https://localhost:8080/",
          "height": 295
        },
        "id": "rO_lUMy_mrW7",
        "outputId": "00fa4c58-31f5-4232-d338-3cb2acbd0e19"
      },
      "source": [
        "# Buat diagram di sini\n",
        "sns.distplot(a=data['cement'], kde= False)\n",
        "plt.title(\"Diagram Cement\")\n",
        "plt.show()"
      ],
      "execution_count": 14,
      "outputs": [
        {
          "output_type": "display_data",
          "data": {
            "image/png": "[encoded data removed]",
            "text/plain": [
              "<Figure size 432x288 with 1 Axes>"
            ]
          },
          "metadata": {
            "needs_background": "light"
          }
        }
      ]
    },
    {
      "cell_type": "code",
      "metadata": {
        "colab": {
          "base_uri": "https://localhost:8080/",
          "height": 0
        },
        "id": "lammUYXwmxj9",
        "outputId": "bd500d69-1e7c-43d8-cfa2-f34990f74c77"
      },
      "source": [
        "data['cement'].describe()"
      ],
      "execution_count": 16,
      "outputs": [
        {
          "output_type": "execute_result",
          "data": {
            "text/plain": [
              "count    1030.000000\n",
              "mean      281.167864\n",
              "std       104.506364\n",
              "min       102.000000\n",
              "25%       192.375000\n",
              "50%       272.900000\n",
              "75%       350.000000\n",
              "max       540.000000\n",
              "Name: cement, dtype: float64"
            ]
          },
          "metadata": {},
          "execution_count": 16
        }
      ]
    },
    {
      "cell_type": "markdown",
      "metadata": {
        "id": "B68V7O8CmmqC"
      },
      "source": [
        "### **ii.\tDeskripsi**\n",
        "Diagram cement , memiliki jumlah yang hampir sama di range 130 - 400. dan juga cukup stabil."
      ]
    },
    {
      "cell_type": "markdown",
      "metadata": {
        "id": "dBybUROeImFp"
      },
      "source": [
        "<a id=\"3\"></a>\n",
        "# 2.2.Bivariate analysis"
      ]
    },
    {
      "cell_type": "markdown",
      "metadata": {
        "id": "D8EL-fmAImFp"
      },
      "source": [
        "## 2.2.1 [Component Name]"
      ]
    },
    {
      "cell_type": "markdown",
      "metadata": {
        "id": "MBmCQ50CImFq"
      },
      "source": [
        "### i. **Boxplot**"
      ]
    },
    {
      "cell_type": "code",
      "metadata": {
        "id": "_UdlXR37uF3Y"
      },
      "source": [
        "def binning(x):\n",
        "  if(100<x<=150):\n",
        "    return '<=150'\n",
        "  elif(150 < x <=200):\n",
        "    return '151-200'\n",
        "  elif(200<x<=250):\n",
        "    return '201-250'\n",
        "  elif (250 < x <= 300):\n",
        "    return '251-300'\n",
        "  elif (300 < x <= 350):\n",
        "    return '301-350'\n",
        "  elif (350 < x <= 400):\n",
        "    return '351-400'\n",
        "  elif (400 < x <= 450):\n",
        "    return '401-450'\n",
        "  elif (450 < x <= 500):\n",
        "    return '451-500'\n",
        "  else:\n",
        "    return '501-550'"
      ],
      "execution_count": 25,
      "outputs": []
    },
    {
      "cell_type": "code",
      "metadata": {
        "id": "YkkcW1ravCvI"
      },
      "source": [
        "data['cement_bins'] = data.cement.apply(lambda x: binning(x))"
      ],
      "execution_count": 26,
      "outputs": []
    },
    {
      "cell_type": "code",
      "metadata": {
        "colab": {
          "base_uri": "https://localhost:8080/",
          "height": 442
        },
        "id": "IejwPN35ImFr",
        "outputId": "0a95cee5-1971-4534-d95b-33249ee82baa"
      },
      "source": [
        "# Buat diagram di sini\n",
        "bins_order = ['<=150', '151-200', '201-250', '251-300', '301-350', '351-400', '401-450', '451-500', '501-550']\n",
        "fig = plt.figure(figsize=(10, 7)) \n",
        "sns.boxplot(x=\"cement_bins\", y=\"strength\", data=data, order=bins_order)\n",
        "plt.show()"
      ],
      "execution_count": 27,
      "outputs": [
        {
          "output_type": "display_data",
          "data": {
            "image/png": "[encoded data removed]",
            "text/plain": [
              "<Figure size 720x504 with 1 Axes>"
            ]
          },
          "metadata": {
            "needs_background": "light"
          }
        }
      ]
    },
    {
      "cell_type": "markdown",
      "metadata": {
        "id": "QKWjtPnsImFr"
      },
      "source": [
        "### ii. Deskripsi"
      ]
    },
    {
      "cell_type": "markdown",
      "metadata": {
        "id": "Im8BbbHeImFs"
      },
      "source": [
        "Data diatas menjelaskan bahwa  bagaimana hubungan data strength dan data cement , yaitu semakin besar cement makan strength juga akan mengikuti jadi berbanding lurus. "
      ]
    },
    {
      "cell_type": "markdown",
      "metadata": {
        "id": "4LYwlRx5ImFs"
      },
      "source": [
        "### iii. Uji Hipotesis\n",
        "**Two sampled T-test** :-Uji Independent Samples t Test atau 2-sample t-test membandingkan rata-rata dua kelompok independen untuk menentukan apakah ada bukti statistik bahwa rata-rata populasi terkait berbeda secara signifikan.\n"
      ]
    },
    {
      "cell_type": "markdown",
      "metadata": {
        "id": "4gISXHAWImFs"
      },
      "source": [
        "Tentukan null dan alternate hypothesis.\n",
        "\n",
        "    Secara umum, null hypothesis akan menyatakan bahwa kedua populasi yang diuji tidak memiliki perbedaan yang signifikan secara statistik.\n",
        "    alternate hypothesis akan menyatakan bahwa ada perbedaan."
      ]
    },
    {
      "cell_type": "markdown",
      "metadata": {
        "id": "7YyO_j56ImFt"
      },
      "source": [
        "Dalam contoh ini kita dapat mengatakan bahwa:\n",
        "*  Null Hypothesis :- tidak ada perbedaan Rerata usia kelompok pendapatan >50k dan kelompok pendapatan <=50k.\n",
        "*  Alternate Hypothesis :- ada perbedaan Rerata usia kelompok pendapatan >50k dan kelompok pendapatan <=50k."
      ]
    },
    {
      "cell_type": "code",
      "metadata": {
        "colab": {
          "base_uri": "https://localhost:8080/",
          "height": 0
        },
        "id": "wXTFwEGFImFu",
        "outputId": "baa93210-1a1a-483b-b1fa-ebec56744814"
      },
      "source": [
        "# Buat uji hipotesis untuk menentukan null atau alternate hypothesis\n",
        "statistic, p_value = stats.ttest_rel(data.strength, data.cement)\n",
        "print('p-value adalah : ', p_value)\n",
        "\n",
        "if p_value < 0.05:\n",
        "  print(\"Hipotesis null ditolak!!\")\n",
        "else:\n",
        "  print(\"Hipotesis diterima!\")\n"
      ],
      "execution_count": 29,
      "outputs": [
        {
          "output_type": "stream",
          "name": "stdout",
          "text": [
            "p-value adalah :  0.0\n",
            "Hipotesis null ditolak!!\n"
          ]
        }
      ]
    },
    {
      "cell_type": "markdown",
      "metadata": {
        "id": "2ghWlnziImFu"
      },
      "source": [
        "### iv. Kesimpulan akhir"
      ]
    },
    {
      "cell_type": "markdown",
      "metadata": {
        "id": "icFE0pxxImFu"
      },
      "source": [
        "**Pada p-value nernilai 0 maka dapat disimpulkan ini menolak hipotesis null yang berarti data strength dan cement saling berpengaruh dan berhubungan.**\n",
        "\n",
        "\n"
      ]
    }
  ]
}