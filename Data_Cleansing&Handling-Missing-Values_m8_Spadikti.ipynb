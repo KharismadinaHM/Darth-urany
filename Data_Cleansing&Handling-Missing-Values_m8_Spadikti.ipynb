{
  "nbformat": 4,
  "nbformat_minor": 5,
  "metadata": {
    "kernelspec": {
      "display_name": "Python 3",
      "language": "python",
      "name": "python3"
    },
    "language_info": {
      "codemirror_mode": {
        "name": "ipython",
        "version": 3
      },
      "file_extension": ".py",
      "mimetype": "text/x-python",
      "name": "python",
      "nbconvert_exporter": "python",
      "pygments_lexer": "ipython3",
      "version": "3.8.8"
    },
    "colab": {
      "name": "[SOAL] Pertemuan 8_Tugas Mandiri.ipynb",
      "provenance": [],
      "collapsed_sections": [
        "55b4dff0",
        "db3ec0c1",
        "7b6dd71b",
        "364f86de",
        "c1b848db",
        "6505d2ce",
        "fe0ba5de"
      ],
      "include_colab_link": true
    }
  },
  "cells": [
    {
      "cell_type": "markdown",
      "metadata": {
        "id": "view-in-github",
        "colab_type": "text"
      },
      "source": [
        "<a href=\"https://colab.research.google.com/github/KharismadinaHM/Darth-urany/blob/master/Data_Cleansing%26Handling-Missing-Values_m8_Spadikti.ipynb\" target=\"_parent\"><img src=\"https://colab.research.google.com/assets/colab-badge.svg\" alt=\"Open In Colab\"/></a>"
      ]
    },
    {
      "cell_type": "markdown",
      "metadata": {
        "id": "FMKzdmWK3Dzz"
      },
      "source": [
        "\n",
        "#Nama : Kharismadina Hijra M\n",
        "#Kelas : UG01\n"
      ],
      "id": "FMKzdmWK3Dzz"
    },
    {
      "cell_type": "markdown",
      "metadata": {
        "id": "4a0f3e44"
      },
      "source": [
        "![header2.png](attachment:header2.png)"
      ],
      "id": "4a0f3e44"
    },
    {
      "cell_type": "markdown",
      "metadata": {
        "id": "70c8e304"
      },
      "source": [
        "# Hands-On\n",
        "\n",
        "Hands-On ini digunakan pada kegiatan Microcredential Associate Data Scientist 2021"
      ],
      "id": "70c8e304"
    },
    {
      "cell_type": "markdown",
      "metadata": {
        "id": "fb4a74c2"
      },
      "source": [
        "# Pertemuan 8\n",
        "\n",
        "Pertemuan 8 (delapan) pada  Microcredential Associate Data Scientist 2021 menyampaikan materi mengenai Membersihkan Data dan Memvalidasi Data"
      ],
      "id": "fb4a74c2"
    },
    {
      "cell_type": "markdown",
      "metadata": {
        "id": "d09deee4"
      },
      "source": [
        "### **DATA CLEANSING & Handling Missing Values**\n",
        "---\n",
        "\n",
        "Value yang hilang serta tidak lengkap dari dataframe akan membuat analisis atau model prediksi yang dibuat menjadi tidak akurat dan mengakibatkan keputusan salah yang diambil. Terdapat beberapa cara untuk mengatasi data yang hilang/tidak lengkap tersebut.\n",
        "\n",
        "Kali ini, kita akan menggunkan Dataset Iris yang kotor / terdapat nilai NaN dan outliers"
      ],
      "id": "d09deee4"
    },
    {
      "cell_type": "markdown",
      "metadata": {
        "id": "c415c8eb"
      },
      "source": [
        "![image.png](attachment:image.png)\n",
        "\n",
        "                            Info dataset: Dataset ini berisi ukuran/measures 3 spesies iris"
      ],
      "id": "c415c8eb"
    },
    {
      "cell_type": "markdown",
      "metadata": {
        "id": "55b4dff0"
      },
      "source": [
        "## Pada Tugas Mandiri Pertemuan 8 \n",
        "\n",
        "#### silakan Anda kerjakan Latihan 1 s/d 20. Output yang anda lihat merupakan panduan yang dapat Anda ikuti dalam penulisan code :)"
      ],
      "id": "55b4dff0"
    },
    {
      "cell_type": "markdown",
      "metadata": {
        "id": "a2812628"
      },
      "source": [
        "# Latihan (1)\n",
        "\n",
        "### Melakukan import library yang dibutuhkan"
      ],
      "id": "a2812628"
    },
    {
      "cell_type": "code",
      "metadata": {
        "id": "d95129c2"
      },
      "source": [
        "# import library pandas\n",
        "import pandas as pd\n",
        "\n",
        "# import library numpy\n",
        "import numpy as np\n",
        "\n",
        "# import library matplotlib\n",
        "import matplotlib.pyplot as plt\n",
        "\n",
        "# import library seaborn\n",
        "import seaborn as sns\n",
        "\n",
        "# me non aktifkan peringatan pada python dengan import warning -> 'ignore'\n",
        "import warnings \n",
        "warnings.filterwarnings(\"ignore\")\n"
      ],
      "id": "d95129c2",
      "execution_count": 1,
      "outputs": []
    },
    {
      "cell_type": "markdown",
      "metadata": {
        "id": "0f98826c"
      },
      "source": [
        "### Load Dataset"
      ],
      "id": "0f98826c"
    },
    {
      "cell_type": "code",
      "metadata": {
        "scrolled": false,
        "id": "9195b041"
      },
      "source": [
        "#Panggil file (load file bernama Iris_unclean.csv) dan simpan dalam dataframe Lalu tampilkan 10 baris awal dataset dengan function head()\n",
        "df = pd.read_csv(\"/content/Iris_unclean.csv\")"
      ],
      "id": "9195b041",
      "execution_count": 3,
      "outputs": []
    },
    {
      "cell_type": "markdown",
      "metadata": {
        "id": "a51f360f"
      },
      "source": [
        "**Kegiatan yang akan kita lakukan:**\n",
        "\n",
        "\n",
        "* Melihat bentuk data (shape) dari data \n",
        "* Langkah selanjutnya, harus tahu kolom mana yang terdapat data hilang dan berapa banyak dengan cara:\n",
        "\n",
        "    1. menerapkan method .info() pada dataframe yang dapat diikuti dari kode berikut ini\n",
        "    2. mengetahui berapa banyak nilai hilang dari tiap kolom di dataset tersebut dengan menerapkan chaining method pada dataframe yaitu .isna().sum().\n",
        "    \n",
        "    \n",
        "* Cek data NaN, bila ada maka hapus/drop data NaN tsb\n",
        "* Cek outliers, bila ada maka hapus/drop outliers tsb"
      ],
      "id": "a51f360f"
    },
    {
      "cell_type": "markdown",
      "metadata": {
        "id": "19f83e26"
      },
      "source": [
        "# Latihan (2)\n",
        "\n",
        "### Review Dataset"
      ],
      "id": "19f83e26"
    },
    {
      "cell_type": "code",
      "metadata": {
        "colab": {
          "base_uri": "https://localhost:8080/"
        },
        "id": "b3dd816a",
        "outputId": "f92b9993-1f13-4943-c5c4-6e79106d60cb"
      },
      "source": [
        "# menghasilkan jumlah baris dan jumlah kolom (bentuk data) pada data df dengan fungsi .shape\n",
        "df.shape"
      ],
      "id": "b3dd816a",
      "execution_count": 4,
      "outputs": [
        {
          "output_type": "execute_result",
          "data": {
            "text/plain": [
              "(150, 5)"
            ]
          },
          "metadata": {},
          "execution_count": 4
        }
      ]
    },
    {
      "cell_type": "code",
      "metadata": {
        "colab": {
          "base_uri": "https://localhost:8080/",
          "height": 300
        },
        "id": "92789f18",
        "outputId": "35bb9b98-eb2c-429a-cbd0-9a3938619a16"
      },
      "source": [
        "# fungsi describe() untuk mengetahui statistika data untuk data numeric seperti count, mean, standard deviation, maximum, mininum, dan quartile.\n",
        "df.describe()"
      ],
      "id": "92789f18",
      "execution_count": 5,
      "outputs": [
        {
          "output_type": "execute_result",
          "data": {
            "text/html": [
              "<div>\n",
              "<style scoped>\n",
              "    .dataframe tbody tr th:only-of-type {\n",
              "        vertical-align: middle;\n",
              "    }\n",
              "\n",
              "    .dataframe tbody tr th {\n",
              "        vertical-align: top;\n",
              "    }\n",
              "\n",
              "    .dataframe thead th {\n",
              "        text-align: right;\n",
              "    }\n",
              "</style>\n",
              "<table border=\"1\" class=\"dataframe\">\n",
              "  <thead>\n",
              "    <tr style=\"text-align: right;\">\n",
              "      <th></th>\n",
              "      <th>SepalLengthCm</th>\n",
              "      <th>SepalWidthCm</th>\n",
              "      <th>PetalLengthCm</th>\n",
              "      <th>PetalWidthCm</th>\n",
              "    </tr>\n",
              "  </thead>\n",
              "  <tbody>\n",
              "    <tr>\n",
              "      <th>count</th>\n",
              "      <td>148.000000</td>\n",
              "      <td>150.000000</td>\n",
              "      <td>150.000000</td>\n",
              "      <td>150.000000</td>\n",
              "    </tr>\n",
              "    <tr>\n",
              "      <th>mean</th>\n",
              "      <td>5.856757</td>\n",
              "      <td>26.348000</td>\n",
              "      <td>3.721333</td>\n",
              "      <td>1.198667</td>\n",
              "    </tr>\n",
              "    <tr>\n",
              "      <th>std</th>\n",
              "      <td>0.824964</td>\n",
              "      <td>203.117929</td>\n",
              "      <td>1.842364</td>\n",
              "      <td>0.763161</td>\n",
              "    </tr>\n",
              "    <tr>\n",
              "      <th>min</th>\n",
              "      <td>4.300000</td>\n",
              "      <td>2.000000</td>\n",
              "      <td>-1.500000</td>\n",
              "      <td>0.100000</td>\n",
              "    </tr>\n",
              "    <tr>\n",
              "      <th>25%</th>\n",
              "      <td>5.100000</td>\n",
              "      <td>2.800000</td>\n",
              "      <td>1.600000</td>\n",
              "      <td>0.300000</td>\n",
              "    </tr>\n",
              "    <tr>\n",
              "      <th>50%</th>\n",
              "      <td>5.800000</td>\n",
              "      <td>3.000000</td>\n",
              "      <td>4.350000</td>\n",
              "      <td>1.300000</td>\n",
              "    </tr>\n",
              "    <tr>\n",
              "      <th>75%</th>\n",
              "      <td>6.400000</td>\n",
              "      <td>3.375000</td>\n",
              "      <td>5.100000</td>\n",
              "      <td>1.800000</td>\n",
              "    </tr>\n",
              "    <tr>\n",
              "      <th>max</th>\n",
              "      <td>7.900000</td>\n",
              "      <td>2000.000000</td>\n",
              "      <td>6.900000</td>\n",
              "      <td>2.500000</td>\n",
              "    </tr>\n",
              "  </tbody>\n",
              "</table>\n",
              "</div>"
            ],
            "text/plain": [
              "       SepalLengthCm  SepalWidthCm  PetalLengthCm  PetalWidthCm\n",
              "count     148.000000    150.000000     150.000000    150.000000\n",
              "mean        5.856757     26.348000       3.721333      1.198667\n",
              "std         0.824964    203.117929       1.842364      0.763161\n",
              "min         4.300000      2.000000      -1.500000      0.100000\n",
              "25%         5.100000      2.800000       1.600000      0.300000\n",
              "50%         5.800000      3.000000       4.350000      1.300000\n",
              "75%         6.400000      3.375000       5.100000      1.800000\n",
              "max         7.900000   2000.000000       6.900000      2.500000"
            ]
          },
          "metadata": {},
          "execution_count": 5
        }
      ]
    },
    {
      "cell_type": "code",
      "metadata": {
        "colab": {
          "base_uri": "https://localhost:8080/"
        },
        "id": "36cf19e3",
        "outputId": "4632ae39-f245-4675-c3ca-4a486c5ba7be"
      },
      "source": [
        "# Informasi lebih detail mengenai struktur DataFrame dapat dilihat menggunakan fungsi info()\n",
        "df.info()"
      ],
      "id": "36cf19e3",
      "execution_count": 6,
      "outputs": [
        {
          "output_type": "stream",
          "name": "stdout",
          "text": [
            "<class 'pandas.core.frame.DataFrame'>\n",
            "RangeIndex: 150 entries, 0 to 149\n",
            "Data columns (total 5 columns):\n",
            " #   Column         Non-Null Count  Dtype  \n",
            "---  ------         --------------  -----  \n",
            " 0   SepalLengthCm  148 non-null    float64\n",
            " 1   SepalWidthCm   150 non-null    float64\n",
            " 2   PetalLengthCm  150 non-null    float64\n",
            " 3   PetalWidthCm   150 non-null    float64\n",
            " 4   Species        150 non-null    object \n",
            "dtypes: float64(4), object(1)\n",
            "memory usage: 6.0+ KB\n"
          ]
        }
      ]
    },
    {
      "cell_type": "code",
      "metadata": {
        "scrolled": true,
        "colab": {
          "base_uri": "https://localhost:8080/"
        },
        "id": "26c7b4f0",
        "outputId": "9a8bbe68-b98c-4961-b1c5-5e1dc18252b2"
      },
      "source": [
        "#cek nilai yang hilang / missing values di dalam data\n",
        "df.isnull().sum()\n"
      ],
      "id": "26c7b4f0",
      "execution_count": 7,
      "outputs": [
        {
          "output_type": "execute_result",
          "data": {
            "text/plain": [
              "SepalLengthCm    2\n",
              "SepalWidthCm     0\n",
              "PetalLengthCm    0\n",
              "PetalWidthCm     0\n",
              "Species          0\n",
              "dtype: int64"
            ]
          },
          "metadata": {},
          "execution_count": 7
        }
      ]
    },
    {
      "cell_type": "markdown",
      "metadata": {
        "id": "635f825f"
      },
      "source": [
        "Missing values adalah nilai yang tidak terdefinisi di dataset. Bentuknya beragam, bisa berupa blank cell, ataupun simbol-simbol tertentu seperti NaN (Not a Number), NA (Not Available), ?, -, dan sebagainya. Missing values dapat menjadi masalah dalam analisis data serta tentunya dapat mempengaruhi hasil modelling machine learning. Dari hasil diatas dataset tsb mengandung 2 data missing values pada kolom/field 'SepalLengthCm' dan beberapa outliers!"
      ],
      "id": "635f825f"
    },
    {
      "cell_type": "markdown",
      "metadata": {
        "id": "db3ec0c1"
      },
      "source": [
        "\n",
        "\n",
        "### Periksa dan Cleansing setiap kolom pada data\n",
        "\n",
        "dalam kasus ini hint nya adalah: hanya kolom/field **'SepalLengthCm'**\t**'SepalWidthCm'**\t**'PetalLengthCm'** yang bermasalah dan kita hanya akan berfokus cleansing pada kolom/field tsb"
      ],
      "id": "db3ec0c1"
    },
    {
      "cell_type": "markdown",
      "metadata": {
        "id": "7b6dd71b"
      },
      "source": [
        "## <font color='red'>1. Kolom SepalLengthCm</font>"
      ],
      "id": "7b6dd71b"
    },
    {
      "cell_type": "markdown",
      "metadata": {
        "id": "3f8fea25"
      },
      "source": [
        "# Latihan (3)\n",
        "\n",
        "periksa statistik data kolom SepalLengthCm"
      ],
      "id": "3f8fea25"
    },
    {
      "cell_type": "code",
      "metadata": {
        "colab": {
          "base_uri": "https://localhost:8080/"
        },
        "id": "9e81ca84",
        "outputId": "8fd6f7e9-64ca-4eb5-cf68-1b772036cc38"
      },
      "source": [
        "df['SepalLengthCm'].describe()"
      ],
      "id": "9e81ca84",
      "execution_count": 8,
      "outputs": [
        {
          "output_type": "execute_result",
          "data": {
            "text/plain": [
              "count    148.000000\n",
              "mean       5.856757\n",
              "std        0.824964\n",
              "min        4.300000\n",
              "25%        5.100000\n",
              "50%        5.800000\n",
              "75%        6.400000\n",
              "max        7.900000\n",
              "Name: SepalLengthCm, dtype: float64"
            ]
          },
          "metadata": {},
          "execution_count": 8
        }
      ]
    },
    {
      "cell_type": "markdown",
      "metadata": {
        "id": "a8db96aa"
      },
      "source": [
        "# Latihan (4)\n",
        "\n",
        "periksa jumlah nilai NaN pada kolom SepalLengthCm"
      ],
      "id": "a8db96aa"
    },
    {
      "cell_type": "code",
      "metadata": {
        "colab": {
          "base_uri": "https://localhost:8080/"
        },
        "id": "b4ce2b23",
        "outputId": "d310280f-8e24-4329-9282-b48fe79df9b0"
      },
      "source": [
        "print('Nilai NaN pada kolom SepalLengthCm berjumlah :', df['SepalLengthCm'].isnull().sum())"
      ],
      "id": "b4ce2b23",
      "execution_count": 9,
      "outputs": [
        {
          "output_type": "stream",
          "name": "stdout",
          "text": [
            "Nilai NaN pada kolom SepalLengthCm berjumlah : 2\n"
          ]
        }
      ]
    },
    {
      "cell_type": "markdown",
      "metadata": {
        "id": "15af75b5"
      },
      "source": [
        "# Latihan (5)\n",
        "\n",
        "cetak index dari nilai NaN kolom SepalLengthCm dengan function np.where"
      ],
      "id": "15af75b5"
    },
    {
      "cell_type": "code",
      "metadata": {
        "id": "062c7c48",
        "colab": {
          "base_uri": "https://localhost:8080/"
        },
        "outputId": "18fbb10f-3a0d-4d7d-809f-e50704ef7384"
      },
      "source": [
        "index_nan = np.where('SepalLengthCM')\n",
        "index_nan"
      ],
      "id": "062c7c48",
      "execution_count": 10,
      "outputs": [
        {
          "output_type": "execute_result",
          "data": {
            "text/plain": [
              "(array([0]),)"
            ]
          },
          "metadata": {},
          "execution_count": 10
        }
      ]
    },
    {
      "cell_type": "markdown",
      "metadata": {
        "id": "5437252e"
      },
      "source": [
        "# Latihan (6)\n",
        "\n",
        "1. Cetak ukuran/dimensi dari dataframe \n",
        "2. Drop baris jika ada satu saja data yang missing dan ukuran/dimensi dari dataframe setelah di drop"
      ],
      "id": "5437252e"
    },
    {
      "cell_type": "code",
      "metadata": {
        "colab": {
          "base_uri": "https://localhost:8080/"
        },
        "id": "b7444156",
        "outputId": "4a0588e8-50cc-4f15-82c1-df3fc181e372"
      },
      "source": [
        "# Cetak ukuran awal dataframe\n",
        "print(\"Ukuran awal df: %d baris, %d kolom.\" % df.shape)\n",
        "\n",
        "# Drop baris jika ada satu saja data yang missing dengan function dropna() dan cetak ukurannya \n",
        "df = df.dropna(axis=0, how='any', thresh=None, subset=None, inplace=False)\n",
        "print(\"Ukuran df setelah dibuang baris yang memiliki missing value: %d baris, %d kolom.\" , df)"
      ],
      "id": "b7444156",
      "execution_count": 11,
      "outputs": [
        {
          "output_type": "stream",
          "name": "stdout",
          "text": [
            "Ukuran awal df: 150 baris, 5 kolom.\n",
            "Ukuran df setelah dibuang baris yang memiliki missing value: %d baris, %d kolom.      SepalLengthCm  SepalWidthCm  PetalLengthCm  PetalWidthCm         Species\n",
            "1              4.9        2000.0            1.4           0.2     Iris-setosa\n",
            "2              4.7           3.2           -1.3           0.2     Iris-setosa\n",
            "3              4.6           3.1            1.5           0.2     Iris-setosa\n",
            "4              5.0           3.6            1.4           0.2     Iris-setosa\n",
            "5              5.4           3.9            1.7           0.4     Iris-setosa\n",
            "..             ...           ...            ...           ...             ...\n",
            "145            6.7           3.0            5.2           2.3  Iris-virginica\n",
            "146            6.3           2.5            5.0           1.9  Iris-virginica\n",
            "147            6.5           3.0            5.2           2.0  Iris-virginica\n",
            "148            6.2           3.4            5.4           2.3  Iris-virginica\n",
            "149            5.9           3.0            5.1           1.8  Iris-virginica\n",
            "\n",
            "[148 rows x 5 columns]\n"
          ]
        }
      ]
    },
    {
      "cell_type": "markdown",
      "metadata": {
        "id": "364f86de"
      },
      "source": [
        "##  <font color='red'>2. Kolom SepalWidthCm</font>"
      ],
      "id": "364f86de"
    },
    {
      "cell_type": "markdown",
      "metadata": {
        "id": "ed3dc971"
      },
      "source": [
        "# Latihan (7)\n",
        "\n",
        "periksa statistik data kolom SepalWidthCm"
      ],
      "id": "ed3dc971"
    },
    {
      "cell_type": "code",
      "metadata": {
        "colab": {
          "base_uri": "https://localhost:8080/"
        },
        "id": "01a2b289",
        "outputId": "0e80b318-8620-4061-dbc5-b575f42af2dd"
      },
      "source": [
        "df['SepalWidthCm'].describe()"
      ],
      "id": "01a2b289",
      "execution_count": 12,
      "outputs": [
        {
          "output_type": "execute_result",
          "data": {
            "text/plain": [
              "count     148.000000\n",
              "mean       26.657432\n",
              "std       204.477337\n",
              "min         2.000000\n",
              "25%         2.800000\n",
              "50%         3.000000\n",
              "75%         3.300000\n",
              "max      2000.000000\n",
              "Name: SepalWidthCm, dtype: float64"
            ]
          },
          "metadata": {},
          "execution_count": 12
        }
      ]
    },
    {
      "cell_type": "markdown",
      "metadata": {
        "id": "81c5b01e"
      },
      "source": [
        "Dari data diatas terlihat pada terdapat kejanggalan pada nilai max yaitu 2000cm, sedangkan Sepal Width/ lebar Kelopak bunga nampaknya tidak masuk akal bila berukuran hingga 2000cm. Sehingga dapat dipastikan ini merupakan outliers"
      ],
      "id": "81c5b01e"
    },
    {
      "cell_type": "markdown",
      "metadata": {
        "id": "473cbd1d"
      },
      "source": [
        "# Latihan (8)\n",
        "\n",
        "mendeteksi outlier dengan menggunakan boxplot pada kolom SepalWidthCm"
      ],
      "id": "473cbd1d"
    },
    {
      "cell_type": "code",
      "metadata": {
        "colab": {
          "base_uri": "https://localhost:8080/",
          "height": 279
        },
        "id": "20e2c606",
        "outputId": "6793290d-9e6d-45fe-b3a6-da3adcf4e66e"
      },
      "source": [
        "plt.Figure(figsize = (10, 5))\n",
        "sns.boxplot(df['SepalWidthCm'])\n",
        "plt.annotate('Outlier', (df['SepalWidthCm'].describe()['max'],0.1), xytext = (df['SepalWidthCm'].describe()['max'],0.3),\n",
        "             arrowprops = dict(facecolor = 'blue'), fontsize = 13 )\n",
        "IQR = df['SepalWidthCm'].describe()['75%'] - df['SepalWidthCm'].describe()['25%']"
      ],
      "id": "20e2c606",
      "execution_count": 13,
      "outputs": [
        {
          "output_type": "display_data",
          "data": {
            "image/png": "[encoded data removed]",
            "text/plain": [
              "<Figure size 432x288 with 1 Axes>"
            ]
          },
          "metadata": {
            "needs_background": "light"
          }
        }
      ]
    },
    {
      "cell_type": "markdown",
      "metadata": {
        "id": "092852e2"
      },
      "source": [
        "# Latihan (9)\n",
        "\n",
        "membuat fungsi melihat data outlier dengan rumus IQR = Q3-Q1"
      ],
      "id": "092852e2"
    },
    {
      "cell_type": "code",
      "metadata": {
        "id": "c9a3246e"
      },
      "source": [
        "def detect_outliers(df, x):\n",
        "    Q1 = df[x].describe()['25%']\n",
        "    Q3 = df[x].describe()['75%']\n",
        "    IQR = Q3-Q1\n",
        "    return df[(df[x] < Q1-1.5*IQR) | (df[x] > Q3+1.5*IQR)]\n"
      ],
      "id": "c9a3246e",
      "execution_count": 17,
      "outputs": []
    },
    {
      "cell_type": "markdown",
      "metadata": {
        "id": "12970fa7"
      },
      "source": [
        "# Latihan (10)\n",
        "\n",
        "melihat data ouliers dari kolom SepalWidthCm menggunakan fungsi yang telah dibuat"
      ],
      "id": "12970fa7"
    },
    {
      "cell_type": "code",
      "metadata": {
        "colab": {
          "base_uri": "https://localhost:8080/",
          "height": 237
        },
        "id": "478e2f16",
        "outputId": "d4656e35-603a-4ca5-a25e-bfc5144e6761"
      },
      "source": [
        "detect_outliers(df,'SepalWidthCm')"
      ],
      "id": "478e2f16",
      "execution_count": 18,
      "outputs": [
        {
          "output_type": "execute_result",
          "data": {
            "text/html": [
              "<div>\n",
              "<style scoped>\n",
              "    .dataframe tbody tr th:only-of-type {\n",
              "        vertical-align: middle;\n",
              "    }\n",
              "\n",
              "    .dataframe tbody tr th {\n",
              "        vertical-align: top;\n",
              "    }\n",
              "\n",
              "    .dataframe thead th {\n",
              "        text-align: right;\n",
              "    }\n",
              "</style>\n",
              "<table border=\"1\" class=\"dataframe\">\n",
              "  <thead>\n",
              "    <tr style=\"text-align: right;\">\n",
              "      <th></th>\n",
              "      <th>SepalLengthCm</th>\n",
              "      <th>SepalWidthCm</th>\n",
              "      <th>PetalLengthCm</th>\n",
              "      <th>PetalWidthCm</th>\n",
              "      <th>Species</th>\n",
              "    </tr>\n",
              "  </thead>\n",
              "  <tbody>\n",
              "    <tr>\n",
              "      <th>1</th>\n",
              "      <td>4.9</td>\n",
              "      <td>2000.0</td>\n",
              "      <td>1.4</td>\n",
              "      <td>0.2</td>\n",
              "      <td>Iris-setosa</td>\n",
              "    </tr>\n",
              "    <tr>\n",
              "      <th>8</th>\n",
              "      <td>4.4</td>\n",
              "      <td>1500.0</td>\n",
              "      <td>1.4</td>\n",
              "      <td>0.2</td>\n",
              "      <td>Iris-setosa</td>\n",
              "    </tr>\n",
              "    <tr>\n",
              "      <th>15</th>\n",
              "      <td>5.7</td>\n",
              "      <td>4.4</td>\n",
              "      <td>1.5</td>\n",
              "      <td>0.4</td>\n",
              "      <td>Iris-setosa</td>\n",
              "    </tr>\n",
              "    <tr>\n",
              "      <th>32</th>\n",
              "      <td>5.2</td>\n",
              "      <td>4.1</td>\n",
              "      <td>1.5</td>\n",
              "      <td>0.1</td>\n",
              "      <td>Iris-setosa</td>\n",
              "    </tr>\n",
              "    <tr>\n",
              "      <th>33</th>\n",
              "      <td>5.5</td>\n",
              "      <td>4.2</td>\n",
              "      <td>1.4</td>\n",
              "      <td>0.2</td>\n",
              "      <td>Iris-setosa</td>\n",
              "    </tr>\n",
              "    <tr>\n",
              "      <th>60</th>\n",
              "      <td>5.0</td>\n",
              "      <td>2.0</td>\n",
              "      <td>3.5</td>\n",
              "      <td>1.0</td>\n",
              "      <td>Iris-versicolor</td>\n",
              "    </tr>\n",
              "  </tbody>\n",
              "</table>\n",
              "</div>"
            ],
            "text/plain": [
              "    SepalLengthCm  SepalWidthCm  PetalLengthCm  PetalWidthCm          Species\n",
              "1             4.9        2000.0            1.4           0.2      Iris-setosa\n",
              "8             4.4        1500.0            1.4           0.2      Iris-setosa\n",
              "15            5.7           4.4            1.5           0.4      Iris-setosa\n",
              "32            5.2           4.1            1.5           0.1      Iris-setosa\n",
              "33            5.5           4.2            1.4           0.2      Iris-setosa\n",
              "60            5.0           2.0            3.5           1.0  Iris-versicolor"
            ]
          },
          "metadata": {},
          "execution_count": 18
        }
      ]
    },
    {
      "cell_type": "markdown",
      "metadata": {
        "id": "e60907d7"
      },
      "source": [
        "# Latihan (11)\n",
        "\n",
        "hapus data outlier dari kolom SepalWidthCm"
      ],
      "id": "e60907d7"
    },
    {
      "cell_type": "code",
      "metadata": {
        "id": "0f8a53a2"
      },
      "source": [
        "df = df.drop((df[df['SepalWidthCm']>4]).index, axis=0)"
      ],
      "id": "0f8a53a2",
      "execution_count": 20,
      "outputs": []
    },
    {
      "cell_type": "code",
      "metadata": {
        "id": "f178e6de"
      },
      "source": [
        "df = df.drop((df[df['SepalWidthCm']<2.1]).index, axis=0)"
      ],
      "id": "f178e6de",
      "execution_count": 22,
      "outputs": []
    },
    {
      "cell_type": "markdown",
      "metadata": {
        "id": "10647d55"
      },
      "source": [
        "# Latihan (12)\n",
        "\n",
        "cek ulang outliers dengan fungsi yang telah dibuat"
      ],
      "id": "10647d55"
    },
    {
      "cell_type": "code",
      "metadata": {
        "id": "11c26293",
        "colab": {
          "base_uri": "https://localhost:8080/",
          "height": 49
        },
        "outputId": "b9e34f95-e0ec-435e-8d7d-8cca51daf05d"
      },
      "source": [
        "detect_outliers(df,'SepalWidthCm')"
      ],
      "id": "11c26293",
      "execution_count": 24,
      "outputs": [
        {
          "output_type": "execute_result",
          "data": {
            "text/html": [
              "<div>\n",
              "<style scoped>\n",
              "    .dataframe tbody tr th:only-of-type {\n",
              "        vertical-align: middle;\n",
              "    }\n",
              "\n",
              "    .dataframe tbody tr th {\n",
              "        vertical-align: top;\n",
              "    }\n",
              "\n",
              "    .dataframe thead th {\n",
              "        text-align: right;\n",
              "    }\n",
              "</style>\n",
              "<table border=\"1\" class=\"dataframe\">\n",
              "  <thead>\n",
              "    <tr style=\"text-align: right;\">\n",
              "      <th></th>\n",
              "      <th>SepalLengthCm</th>\n",
              "      <th>SepalWidthCm</th>\n",
              "      <th>PetalLengthCm</th>\n",
              "      <th>PetalWidthCm</th>\n",
              "      <th>Species</th>\n",
              "    </tr>\n",
              "  </thead>\n",
              "  <tbody>\n",
              "  </tbody>\n",
              "</table>\n",
              "</div>"
            ],
            "text/plain": [
              "Empty DataFrame\n",
              "Columns: [SepalLengthCm, SepalWidthCm, PetalLengthCm, PetalWidthCm, Species]\n",
              "Index: []"
            ]
          },
          "metadata": {},
          "execution_count": 24
        }
      ]
    },
    {
      "cell_type": "markdown",
      "metadata": {
        "id": "c6034932"
      },
      "source": [
        "# Latihan (13)\n",
        "\n",
        "cek ulang outliers dengan boxplot "
      ],
      "id": "c6034932"
    },
    {
      "cell_type": "code",
      "metadata": {
        "id": "dc2cc75d",
        "colab": {
          "base_uri": "https://localhost:8080/",
          "height": 298
        },
        "outputId": "e757b905-3b2a-4157-dc51-137934aac3ae"
      },
      "source": [
        "plt.Figure(figsize = (10, 5))\n",
        "sns.boxplot(df['SepalWidthCm'])"
      ],
      "id": "dc2cc75d",
      "execution_count": 25,
      "outputs": [
        {
          "output_type": "execute_result",
          "data": {
            "text/plain": [
              "<matplotlib.axes._subplots.AxesSubplot at 0x7fe7aea54e90>"
            ]
          },
          "metadata": {},
          "execution_count": 25
        },
        {
          "output_type": "display_data",
          "data": {
            "image/png": "[encoded data removed]",
            "text/plain": [
              "<Figure size 432x288 with 1 Axes>"
            ]
          },
          "metadata": {
            "needs_background": "light"
          }
        }
      ]
    },
    {
      "cell_type": "markdown",
      "metadata": {
        "id": "c1b848db"
      },
      "source": [
        "###  <font color='red'>3. Kolom PetalLengthCm</font>"
      ],
      "id": "c1b848db"
    },
    {
      "cell_type": "markdown",
      "metadata": {
        "id": "94c628fc"
      },
      "source": [
        "# Latihan (14)\n",
        "\n",
        "periksa statistik data kolom SepalLengthCm"
      ],
      "id": "94c628fc"
    },
    {
      "cell_type": "code",
      "metadata": {
        "id": "144c83a7",
        "colab": {
          "base_uri": "https://localhost:8080/"
        },
        "outputId": "6a575f61-841d-4231-d080-80a55e5f73d9"
      },
      "source": [
        "df['SepalLengthCm'].describe()"
      ],
      "id": "144c83a7",
      "execution_count": 26,
      "outputs": [
        {
          "output_type": "execute_result",
          "data": {
            "text/plain": [
              "count    142.000000\n",
              "mean       5.888028\n",
              "std        0.823199\n",
              "min        4.300000\n",
              "25%        5.125000\n",
              "50%        5.800000\n",
              "75%        6.400000\n",
              "max        7.900000\n",
              "Name: SepalLengthCm, dtype: float64"
            ]
          },
          "metadata": {},
          "execution_count": 26
        }
      ]
    },
    {
      "cell_type": "markdown",
      "metadata": {
        "id": "e0d9c01e"
      },
      "source": [
        "Dari data diatas terlihat pada terdapat kejanggalan pada nilai min yaitu bernilai minus, sedangkan Petal Length/ panjang Kelopak bunga nampaknya tidak masuk akal bila berukuran minus. Sehingga dapat dipastikan ini merupakan outliers"
      ],
      "id": "e0d9c01e"
    },
    {
      "cell_type": "markdown",
      "metadata": {
        "id": "6c5bd1be"
      },
      "source": [
        "# Latihan (15)\n",
        "\n",
        "periksa data bernilai minus pada kolom PetalLengthCm"
      ],
      "id": "6c5bd1be"
    },
    {
      "cell_type": "code",
      "metadata": {
        "id": "35ccbabe",
        "colab": {
          "base_uri": "https://localhost:8080/",
          "height": 112
        },
        "outputId": "6c7824ca-d7cf-4755-afba-16c3bbf9e397"
      },
      "source": [
        "df[df['PetalLengthCm']<1]"
      ],
      "id": "35ccbabe",
      "execution_count": 27,
      "outputs": [
        {
          "output_type": "execute_result",
          "data": {
            "text/html": [
              "<div>\n",
              "<style scoped>\n",
              "    .dataframe tbody tr th:only-of-type {\n",
              "        vertical-align: middle;\n",
              "    }\n",
              "\n",
              "    .dataframe tbody tr th {\n",
              "        vertical-align: top;\n",
              "    }\n",
              "\n",
              "    .dataframe thead th {\n",
              "        text-align: right;\n",
              "    }\n",
              "</style>\n",
              "<table border=\"1\" class=\"dataframe\">\n",
              "  <thead>\n",
              "    <tr style=\"text-align: right;\">\n",
              "      <th></th>\n",
              "      <th>SepalLengthCm</th>\n",
              "      <th>SepalWidthCm</th>\n",
              "      <th>PetalLengthCm</th>\n",
              "      <th>PetalWidthCm</th>\n",
              "      <th>Species</th>\n",
              "    </tr>\n",
              "  </thead>\n",
              "  <tbody>\n",
              "    <tr>\n",
              "      <th>2</th>\n",
              "      <td>4.7</td>\n",
              "      <td>3.2</td>\n",
              "      <td>-1.3</td>\n",
              "      <td>0.2</td>\n",
              "      <td>Iris-setosa</td>\n",
              "    </tr>\n",
              "    <tr>\n",
              "      <th>7</th>\n",
              "      <td>5.0</td>\n",
              "      <td>3.4</td>\n",
              "      <td>-1.5</td>\n",
              "      <td>0.2</td>\n",
              "      <td>Iris-setosa</td>\n",
              "    </tr>\n",
              "  </tbody>\n",
              "</table>\n",
              "</div>"
            ],
            "text/plain": [
              "   SepalLengthCm  SepalWidthCm  PetalLengthCm  PetalWidthCm      Species\n",
              "2            4.7           3.2           -1.3           0.2  Iris-setosa\n",
              "7            5.0           3.4           -1.5           0.2  Iris-setosa"
            ]
          },
          "metadata": {},
          "execution_count": 27
        }
      ]
    },
    {
      "cell_type": "markdown",
      "metadata": {
        "id": "9683a57c"
      },
      "source": [
        "# Latihan (16)\n",
        "\n",
        "hapus data bernilai minus / outlier kolom PetalLengthCm"
      ],
      "id": "9683a57c"
    },
    {
      "cell_type": "code",
      "metadata": {
        "id": "4018d17c"
      },
      "source": [
        "df = df.drop((df[df['PetalLengthCm']<1]).index, axis=0)"
      ],
      "id": "4018d17c",
      "execution_count": 28,
      "outputs": []
    },
    {
      "cell_type": "markdown",
      "metadata": {
        "id": "b446c0da"
      },
      "source": [
        "# Latihan (17)\n",
        "\n",
        "cek ulang outliers dengan fungsi yang telah dibuat"
      ],
      "id": "b446c0da"
    },
    {
      "cell_type": "code",
      "metadata": {
        "scrolled": true,
        "id": "33417f1b",
        "colab": {
          "base_uri": "https://localhost:8080/",
          "height": 49
        },
        "outputId": "5e724657-460e-404e-a499-4772703e1c2c"
      },
      "source": [
        "df[df['PetalLengthCm']<1]"
      ],
      "id": "33417f1b",
      "execution_count": 31,
      "outputs": [
        {
          "output_type": "execute_result",
          "data": {
            "text/html": [
              "<div>\n",
              "<style scoped>\n",
              "    .dataframe tbody tr th:only-of-type {\n",
              "        vertical-align: middle;\n",
              "    }\n",
              "\n",
              "    .dataframe tbody tr th {\n",
              "        vertical-align: top;\n",
              "    }\n",
              "\n",
              "    .dataframe thead th {\n",
              "        text-align: right;\n",
              "    }\n",
              "</style>\n",
              "<table border=\"1\" class=\"dataframe\">\n",
              "  <thead>\n",
              "    <tr style=\"text-align: right;\">\n",
              "      <th></th>\n",
              "      <th>SepalLengthCm</th>\n",
              "      <th>SepalWidthCm</th>\n",
              "      <th>PetalLengthCm</th>\n",
              "      <th>PetalWidthCm</th>\n",
              "      <th>Species</th>\n",
              "    </tr>\n",
              "  </thead>\n",
              "  <tbody>\n",
              "  </tbody>\n",
              "</table>\n",
              "</div>"
            ],
            "text/plain": [
              "Empty DataFrame\n",
              "Columns: [SepalLengthCm, SepalWidthCm, PetalLengthCm, PetalWidthCm, Species]\n",
              "Index: []"
            ]
          },
          "metadata": {},
          "execution_count": 31
        }
      ]
    },
    {
      "cell_type": "markdown",
      "metadata": {
        "id": "6505d2ce"
      },
      "source": [
        "## CEK DATA SETELAH PROSES CLEANSING"
      ],
      "id": "6505d2ce"
    },
    {
      "cell_type": "markdown",
      "metadata": {
        "id": "35fb612e"
      },
      "source": [
        "# Latihan (18)\n",
        "\n",
        "Melihat nomor index beserta tipe datanya dengan function info()"
      ],
      "id": "35fb612e"
    },
    {
      "cell_type": "code",
      "metadata": {
        "id": "3edb6082",
        "colab": {
          "base_uri": "https://localhost:8080/"
        },
        "outputId": "08839e9c-949b-43b9-bfb7-2cb0fb53c924"
      },
      "source": [
        "df.info()"
      ],
      "id": "3edb6082",
      "execution_count": 33,
      "outputs": [
        {
          "output_type": "stream",
          "name": "stdout",
          "text": [
            "<class 'pandas.core.frame.DataFrame'>\n",
            "Int64Index: 140 entries, 3 to 149\n",
            "Data columns (total 5 columns):\n",
            " #   Column         Non-Null Count  Dtype  \n",
            "---  ------         --------------  -----  \n",
            " 0   SepalLengthCm  140 non-null    float64\n",
            " 1   SepalWidthCm   140 non-null    float64\n",
            " 2   PetalLengthCm  140 non-null    float64\n",
            " 3   PetalWidthCm   140 non-null    float64\n",
            " 4   Species        140 non-null    object \n",
            "dtypes: float64(4), object(1)\n",
            "memory usage: 6.6+ KB\n"
          ]
        }
      ]
    },
    {
      "cell_type": "markdown",
      "metadata": {
        "id": "b4c7d4f3"
      },
      "source": [
        "# Latihan (19)\n",
        "\n",
        "cek ulang nilai yang hilang / missing values di dalam data setelah proses cleansing"
      ],
      "id": "b4c7d4f3"
    },
    {
      "cell_type": "code",
      "metadata": {
        "id": "4b83813b",
        "colab": {
          "base_uri": "https://localhost:8080/"
        },
        "outputId": "32f3740e-ca72-4389-ec8e-143467d3e352"
      },
      "source": [
        "df.isnull().sum()"
      ],
      "id": "4b83813b",
      "execution_count": 34,
      "outputs": [
        {
          "output_type": "execute_result",
          "data": {
            "text/plain": [
              "SepalLengthCm    0\n",
              "SepalWidthCm     0\n",
              "PetalLengthCm    0\n",
              "PetalWidthCm     0\n",
              "Species          0\n",
              "dtype: int64"
            ]
          },
          "metadata": {},
          "execution_count": 34
        }
      ]
    },
    {
      "cell_type": "markdown",
      "metadata": {
        "id": "56c854c3"
      },
      "source": [
        "# Latihan (20)\n",
        "\n",
        "Tampilkan 10 baris dataframe setelah proses cleansing"
      ],
      "id": "56c854c3"
    },
    {
      "cell_type": "code",
      "metadata": {
        "id": "6d6adea7",
        "colab": {
          "base_uri": "https://localhost:8080/",
          "height": 363
        },
        "outputId": "09e5a3f5-fb7f-4672-c5e6-0651d28cd99e"
      },
      "source": [
        "df.head(10)"
      ],
      "id": "6d6adea7",
      "execution_count": 35,
      "outputs": [
        {
          "output_type": "execute_result",
          "data": {
            "text/html": [
              "<div>\n",
              "<style scoped>\n",
              "    .dataframe tbody tr th:only-of-type {\n",
              "        vertical-align: middle;\n",
              "    }\n",
              "\n",
              "    .dataframe tbody tr th {\n",
              "        vertical-align: top;\n",
              "    }\n",
              "\n",
              "    .dataframe thead th {\n",
              "        text-align: right;\n",
              "    }\n",
              "</style>\n",
              "<table border=\"1\" class=\"dataframe\">\n",
              "  <thead>\n",
              "    <tr style=\"text-align: right;\">\n",
              "      <th></th>\n",
              "      <th>SepalLengthCm</th>\n",
              "      <th>SepalWidthCm</th>\n",
              "      <th>PetalLengthCm</th>\n",
              "      <th>PetalWidthCm</th>\n",
              "      <th>Species</th>\n",
              "    </tr>\n",
              "  </thead>\n",
              "  <tbody>\n",
              "    <tr>\n",
              "      <th>3</th>\n",
              "      <td>4.6</td>\n",
              "      <td>3.1</td>\n",
              "      <td>1.5</td>\n",
              "      <td>0.2</td>\n",
              "      <td>Iris-setosa</td>\n",
              "    </tr>\n",
              "    <tr>\n",
              "      <th>4</th>\n",
              "      <td>5.0</td>\n",
              "      <td>3.6</td>\n",
              "      <td>1.4</td>\n",
              "      <td>0.2</td>\n",
              "      <td>Iris-setosa</td>\n",
              "    </tr>\n",
              "    <tr>\n",
              "      <th>5</th>\n",
              "      <td>5.4</td>\n",
              "      <td>3.9</td>\n",
              "      <td>1.7</td>\n",
              "      <td>0.4</td>\n",
              "      <td>Iris-setosa</td>\n",
              "    </tr>\n",
              "    <tr>\n",
              "      <th>9</th>\n",
              "      <td>4.9</td>\n",
              "      <td>3.1</td>\n",
              "      <td>1.5</td>\n",
              "      <td>0.1</td>\n",
              "      <td>Iris-setosa</td>\n",
              "    </tr>\n",
              "    <tr>\n",
              "      <th>10</th>\n",
              "      <td>5.4</td>\n",
              "      <td>3.7</td>\n",
              "      <td>1.5</td>\n",
              "      <td>0.2</td>\n",
              "      <td>Iris-setosa</td>\n",
              "    </tr>\n",
              "    <tr>\n",
              "      <th>11</th>\n",
              "      <td>4.8</td>\n",
              "      <td>3.4</td>\n",
              "      <td>1.6</td>\n",
              "      <td>0.2</td>\n",
              "      <td>Iris-setosa</td>\n",
              "    </tr>\n",
              "    <tr>\n",
              "      <th>12</th>\n",
              "      <td>4.8</td>\n",
              "      <td>3.0</td>\n",
              "      <td>1.4</td>\n",
              "      <td>0.1</td>\n",
              "      <td>Iris-setosa</td>\n",
              "    </tr>\n",
              "    <tr>\n",
              "      <th>13</th>\n",
              "      <td>4.3</td>\n",
              "      <td>3.0</td>\n",
              "      <td>1.1</td>\n",
              "      <td>0.1</td>\n",
              "      <td>Iris-setosa</td>\n",
              "    </tr>\n",
              "    <tr>\n",
              "      <th>14</th>\n",
              "      <td>5.8</td>\n",
              "      <td>4.0</td>\n",
              "      <td>1.2</td>\n",
              "      <td>0.2</td>\n",
              "      <td>Iris-setosa</td>\n",
              "    </tr>\n",
              "    <tr>\n",
              "      <th>16</th>\n",
              "      <td>5.4</td>\n",
              "      <td>3.9</td>\n",
              "      <td>1.3</td>\n",
              "      <td>0.4</td>\n",
              "      <td>Iris-setosa</td>\n",
              "    </tr>\n",
              "  </tbody>\n",
              "</table>\n",
              "</div>"
            ],
            "text/plain": [
              "    SepalLengthCm  SepalWidthCm  PetalLengthCm  PetalWidthCm      Species\n",
              "3             4.6           3.1            1.5           0.2  Iris-setosa\n",
              "4             5.0           3.6            1.4           0.2  Iris-setosa\n",
              "5             5.4           3.9            1.7           0.4  Iris-setosa\n",
              "9             4.9           3.1            1.5           0.1  Iris-setosa\n",
              "10            5.4           3.7            1.5           0.2  Iris-setosa\n",
              "11            4.8           3.4            1.6           0.2  Iris-setosa\n",
              "12            4.8           3.0            1.4           0.1  Iris-setosa\n",
              "13            4.3           3.0            1.1           0.1  Iris-setosa\n",
              "14            5.8           4.0            1.2           0.2  Iris-setosa\n",
              "16            5.4           3.9            1.3           0.4  Iris-setosa"
            ]
          },
          "metadata": {},
          "execution_count": 35
        }
      ]
    },
    {
      "cell_type": "markdown",
      "metadata": {
        "id": "fe0ba5de"
      },
      "source": [
        "### DATA SUDAH SIAP UNTUK KETAHAP SELANJUTNYA YAITU MODELLING :)"
      ],
      "id": "fe0ba5de"
    }
  ]
}